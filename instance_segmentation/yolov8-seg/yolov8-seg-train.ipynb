{
 "cells": [
  {
   "cell_type": "code",
   "execution_count": null,
   "metadata": {},
   "outputs": [
    {
     "name": "stdout",
     "output_type": "stream",
     "text": [
      "New https://pypi.org/project/ultralytics/8.3.98 available  Update with 'pip install -U ultralytics'\n",
      "Ultralytics 8.3.96  Python-3.11.9 torch-2.6.0+cu124 CUDA:0 (NVIDIA GeForce RTX 3070 Laptop GPU, 8192MiB)\n",
      "\u001b[34m\u001b[1mengine\\trainer: \u001b[0mtask=segment, mode=train, model=C:\\Users\\Sai\\Documents\\Neu\\Masters_Project\\PerceptionPrivacy\\instance_segmentation\\yolov8-seg\\privacy-segmentation\\yolov8n-adam-flip-640-3e4-mosaic-b16-2\\weights\\best.pt, data=C:\\Users\\Sai\\Documents\\Neu\\Masters_Project\\PerceptionPrivacy\\datasets\\yolo_lp_screen_id\\data.yaml, epochs=75, time=None, patience=10, batch=16, imgsz=640, save=True, save_period=-1, cache=disk, device=0, workers=8, project=privacy-segmentation, name=yolov8n-adam-flip-640-3e4-mosaic-b16-gray-2, exist_ok=False, pretrained=True, optimizer=Adam, verbose=True, seed=0, deterministic=True, single_cls=False, rect=False, cos_lr=False, close_mosaic=10, resume=False, amp=True, fraction=1.0, profile=False, freeze=None, multi_scale=True, overlap_mask=True, mask_ratio=4, dropout=0.0, val=True, split=val, save_json=False, save_hybrid=False, conf=None, iou=0.7, max_det=300, half=False, dnn=False, plots=True, source=None, vid_stride=1, stream_buffer=False, visualize=False, augment=False, agnostic_nms=False, classes=None, retina_masks=False, embed=None, show=False, save_frames=False, save_txt=False, save_conf=False, save_crop=False, show_labels=True, show_conf=True, show_boxes=True, line_width=None, format=torchscript, keras=False, optimize=False, int8=False, dynamic=False, simplify=True, opset=None, workspace=None, nms=False, lr0=0.0003, lrf=0.01, momentum=0.937, weight_decay=0.0005, warmup_epochs=3.0, warmup_momentum=0.8, warmup_bias_lr=0.1, box=7.5, cls=0.5, dfl=1.5, pose=12.0, kobj=1.0, nbs=64, hsv_h=0.015, hsv_s=0.7, hsv_v=0.4, degrees=10, translate=0.1, scale=0.5, shear=0.0, perspective=0.0, flipud=0.1, fliplr=0.5, bgr=0.0, mosaic=True, mixup=0.0, copy_paste=0.1, copy_paste_mode=flip, auto_augment=randaugment, erasing=0.4, crop_fraction=1.0, cfg=None, tracker=botsort.yaml, save_dir=privacy-segmentation\\yolov8n-adam-flip-640-3e4-mosaic-b16-gray-2\n",
      "\n",
      "                   from  n    params  module                                       arguments                     \n",
      "  0                  -1  1       464  ultralytics.nn.modules.conv.Conv             [3, 16, 3, 2]                 \n",
      "  1                  -1  1      4672  ultralytics.nn.modules.conv.Conv             [16, 32, 3, 2]                \n",
      "  2                  -1  1      7360  ultralytics.nn.modules.block.C2f             [32, 32, 1, True]             \n",
      "  3                  -1  1     18560  ultralytics.nn.modules.conv.Conv             [32, 64, 3, 2]                \n",
      "  4                  -1  2     49664  ultralytics.nn.modules.block.C2f             [64, 64, 2, True]             \n",
      "  5                  -1  1     73984  ultralytics.nn.modules.conv.Conv             [64, 128, 3, 2]               \n",
      "  6                  -1  2    197632  ultralytics.nn.modules.block.C2f             [128, 128, 2, True]           \n",
      "  7                  -1  1    295424  ultralytics.nn.modules.conv.Conv             [128, 256, 3, 2]              \n",
      "  8                  -1  1    460288  ultralytics.nn.modules.block.C2f             [256, 256, 1, True]           \n",
      "  9                  -1  1    164608  ultralytics.nn.modules.block.SPPF            [256, 256, 5]                 \n",
      " 10                  -1  1         0  torch.nn.modules.upsampling.Upsample         [None, 2, 'nearest']          \n",
      " 11             [-1, 6]  1         0  ultralytics.nn.modules.conv.Concat           [1]                           \n",
      " 12                  -1  1    148224  ultralytics.nn.modules.block.C2f             [384, 128, 1]                 \n",
      " 13                  -1  1         0  torch.nn.modules.upsampling.Upsample         [None, 2, 'nearest']          \n",
      " 14             [-1, 4]  1         0  ultralytics.nn.modules.conv.Concat           [1]                           \n",
      " 15                  -1  1     37248  ultralytics.nn.modules.block.C2f             [192, 64, 1]                  \n",
      " 16                  -1  1     36992  ultralytics.nn.modules.conv.Conv             [64, 64, 3, 2]                \n",
      " 17            [-1, 12]  1         0  ultralytics.nn.modules.conv.Concat           [1]                           \n",
      " 18                  -1  1    123648  ultralytics.nn.modules.block.C2f             [192, 128, 1]                 \n",
      " 19                  -1  1    147712  ultralytics.nn.modules.conv.Conv             [128, 128, 3, 2]              \n",
      " 20             [-1, 9]  1         0  ultralytics.nn.modules.conv.Concat           [1]                           \n",
      " 21                  -1  1    493056  ultralytics.nn.modules.block.C2f             [384, 256, 1]                 \n",
      " 22        [15, 18, 21]  1   1004665  ultralytics.nn.modules.head.Segment          [3, 32, 64, [64, 128, 256]]   \n",
      "YOLOv8n-seg summary: 151 layers, 3,264,201 parameters, 3,264,185 gradients, 12.1 GFLOPs\n",
      "\n",
      "Transferred 417/417 items from pretrained weights\n",
      "\u001b[34m\u001b[1mTensorBoard: \u001b[0mStart with 'tensorboard --logdir privacy-segmentation\\yolov8n-adam-flip-640-3e4-mosaic-b16-gray-2', view at http://localhost:6006/\n"
     ]
    },
    {
     "name": "stderr",
     "output_type": "stream",
     "text": [
      "wandb: Using wandb-core as the SDK backend.  Please refer to https://wandb.me/wandb-core for more information.\n",
      "wandb: Currently logged in as: chainathanss to https://api.wandb.ai. Use `wandb login --relogin` to force relogin\n"
     ]
    },
    {
     "data": {
      "text/html": [
       "Tracking run with wandb version 0.19.8"
      ],
      "text/plain": [
       "<IPython.core.display.HTML object>"
      ]
     },
     "metadata": {},
     "output_type": "display_data"
    },
    {
     "data": {
      "text/html": [
       "Run data is saved locally in <code>c:\\Users\\Sai\\Documents\\Neu\\Masters_Project\\PerceptionPrivacy\\instance_segmentation\\yolov8-seg\\wandb\\run-20250328_235925-64qjif17</code>"
      ],
      "text/plain": [
       "<IPython.core.display.HTML object>"
      ]
     },
     "metadata": {},
     "output_type": "display_data"
    },
    {
     "data": {
      "text/html": [
       "Syncing run <strong><a href='https://wandb.ai/chainathanss/privacy-segmentation/runs/64qjif17' target=\"_blank\">yolov8n-adam-flip-640-3e4-mosaic-b16-gray-2</a></strong> to <a href='https://wandb.ai/chainathanss/privacy-segmentation' target=\"_blank\">Weights & Biases</a> (<a href='https://wandb.me/developer-guide' target=\"_blank\">docs</a>)<br>"
      ],
      "text/plain": [
       "<IPython.core.display.HTML object>"
      ]
     },
     "metadata": {},
     "output_type": "display_data"
    },
    {
     "data": {
      "text/html": [
       " View project at <a href='https://wandb.ai/chainathanss/privacy-segmentation' target=\"_blank\">https://wandb.ai/chainathanss/privacy-segmentation</a>"
      ],
      "text/plain": [
       "<IPython.core.display.HTML object>"
      ]
     },
     "metadata": {},
     "output_type": "display_data"
    },
    {
     "data": {
      "text/html": [
       " View run at <a href='https://wandb.ai/chainathanss/privacy-segmentation/runs/64qjif17' target=\"_blank\">https://wandb.ai/chainathanss/privacy-segmentation/runs/64qjif17</a>"
      ],
      "text/plain": [
       "<IPython.core.display.HTML object>"
      ]
     },
     "metadata": {},
     "output_type": "display_data"
    },
    {
     "name": "stdout",
     "output_type": "stream",
     "text": [
      "Freezing layer 'model.22.dfl.conv.weight'\n",
      "\u001b[34m\u001b[1mAMP: \u001b[0mrunning Automatic Mixed Precision (AMP) checks...\n",
      "\u001b[34m\u001b[1mAMP: \u001b[0mchecks passed \n"
     ]
    },
    {
     "name": "stderr",
     "output_type": "stream",
     "text": [
      "train: Scanning C:\\Users\\Sai\\Documents\\Neu\\Masters_Project\\PerceptionPrivacy\\datasets\\yolo_lp_screen_id\\labels\\train.cache... 30448 images, 0 backgrounds, 0 corrupt: 100%|██████████| 30448/30448 [00:00<?, ?it/s]Scanning C:\\Users\\Sai\\Documents\\Neu\\Masters_Project\\PerceptionPrivacy\\datasets\\yolo_lp_screen_id\\labels\\train.cache... 30448 images, 0 backgrounds, 0 corrupt: 100%|██████████| 30448/30448 [00:00<?, ?it/s]\n",
      "train:         | 0/30448 [00:00<?, ?it/s]Caching images (0.1GB Disk):   0%|          | 59/30448 [00:00<00:54, 558.17it/s]Caching images (0.3GB Disk):   0%|          | 115/30448 [00:00<00:56, 533.20it/s]Caching images (0.4GB Disk):   1%|          | 175/30448 [00:00<00:54, 552.94it/s]Caching images (0.5GB Disk):   1%|          | 231/30448 [00:00<00:56, 531.58it/s]Caching images (0.7GB Disk):   1%|          | 295/30448 [00:00<00:54, 555.96it/s]Caching images (0.8GB Disk):   1%|          | 351/30448 [00:00<00:55, 540.06it/s]Caching images (1.0GB Disk):   1%|▏         | 414/30448 [00:00<00:53, 557.97it/s]Caching images (1.1GB Disk):   2%|▏         | 479/30448 [00:00<00:52, 572.24it/s]Caching images (1.2GB Disk):   2%|▏         | 537/30448 [00:00<00:52, 568.21it/s]Caching images (1.4GB Disk):   2%|▏         | 599/30448 [00:01<00:51, 580.37it/s]Caching images (1.5GB Disk):   2%|▏         | 658/30448 [00:01<00:52, 569.94it/s]Caching images (1.7GB Disk):   2%|▏         | 716/30448 [00:01<00:52, 561.04it/s]Caching images (1.8GB Disk):   3%|▎         | 791/30448 [00:01<00:48, 611.57it/s]Caching images (2.0GB Disk):   3%|▎         | 865/30448 [00:01<00:45, 644.74it/s]Caching images (2.2GB Disk):   3%|▎         | 947/30448 [00:01<00:43, 685.29it/s]Caching images (2.4GB Disk):   3%|▎         | 1016/30448 [00:01<00:43, 684.01it/s]Caching images (2.5GB Disk):   4%|▎         | 1085/30448 [00:01<00:43, 675.37it/s]Caching images (2.7GB Disk):   4%|▍         | 1153/30448 [00:01<00:48, 607.31it/s]Caching images (2.8GB Disk):   4%|▍         | 1215/30448 [00:02<00:48, 596.78it/s]Caching images (3.0GB Disk):   4%|▍         | 1276/30448 [00:02<00:52, 558.49it/s]Caching images (3.1GB Disk):   4%|▍         | 1334/30448 [00:02<00:51, 563.70it/s]Caching images (3.2GB Disk):   5%|▍         | 1392/30448 [00:02<00:54, 532.43it/s]Caching images (3.4GB Disk):   5%|▍         | 1456/30448 [00:02<00:51, 559.91it/s]Caching images (3.5GB Disk):   5%|▍         | 1514/30448 [00:02<00:52, 554.93it/s]Caching images (3.7GB Disk):   5%|▌         | 1580/30448 [00:02<00:50, 576.76it/s]Caching images (3.9GB Disk):   5%|▌         | 1664/30448 [00:02<00:44, 646.83it/s]Caching images (4.1GB Disk):   6%|▌         | 1741/30448 [00:02<00:42, 674.67it/s]Caching images (4.2GB Disk):   6%|▌         | 1819/30448 [00:03<00:40, 704.64it/s]Caching images (4.4GB Disk):   6%|▌         | 1890/30448 [00:03<00:46, 613.26it/s]Caching images (4.6GB Disk):   6%|▋         | 1954/30448 [00:03<00:47, 596.37it/s]Caching images (4.7GB Disk):   7%|▋         | 2016/30448 [00:03<00:49, 569.36it/s]Caching images (4.8GB Disk):   7%|▋         | 2075/30448 [00:03<00:50, 563.72it/s]Caching images (5.0GB Disk):   7%|▋         | 2133/30448 [00:03<00:54, 522.28it/s]Caching images (5.1GB Disk):   7%|▋         | 2188/30448 [00:03<00:53, 523.48it/s]Caching images (5.3GB Disk):   7%|▋         | 2257/30448 [00:03<00:50, 558.18it/s]Caching images (5.4GB Disk):   8%|▊         | 2337/30448 [00:03<00:45, 619.91it/s]Caching images (5.6GB Disk):   8%|▊         | 2415/30448 [00:04<00:42, 658.55it/s]Caching images (5.8GB Disk):   8%|▊         | 2491/30448 [00:04<00:41, 676.58it/s]Caching images (6.0GB Disk):   8%|▊         | 2570/30448 [00:04<00:39, 707.97it/s]Caching images (6.2GB Disk):   9%|▊         | 2654/30448 [00:04<00:37, 738.78it/s]Caching images (6.4GB Disk):   9%|▉         | 2729/30448 [00:04<00:45, 613.27it/s]Caching images (6.5GB Disk):   9%|▉         | 2795/30448 [00:04<00:48, 573.28it/s]Caching images (6.7GB Disk):   9%|▉         | 2856/30448 [00:04<00:52, 523.20it/s]Caching images (6.8GB Disk):  10%|▉         | 2911/30448 [00:04<00:55, 497.49it/s]Caching images (6.9GB Disk):  10%|▉         | 2963/30448 [00:05<00:57, 481.89it/s]Caching images (7.0GB Disk):  10%|▉         | 3013/30448 [00:05<01:00, 454.94it/s]Caching images (7.1GB Disk):  10%|█         | 3060/30448 [00:05<01:02, 438.09it/s]Caching images (7.2GB Disk):  10%|█         | 3105/30448 [00:05<01:04, 424.01it/s]Caching images (7.3GB Disk):  10%|█         | 3148/30448 [00:05<01:07, 407.16it/s]Caching images (7.5GB Disk):  11%|█         | 3228/30448 [00:05<00:53, 509.15it/s]Caching images (7.7GB Disk):  11%|█         | 3298/30448 [00:05<00:49, 551.01it/s]Caching images (7.8GB Disk):  11%|█         | 3359/30448 [00:05<00:53, 509.31it/s]Caching images (8.0GB Disk):  11%|█         | 3412/30448 [00:06<00:54, 496.75it/s]Caching images (8.1GB Disk):  11%|█▏        | 3463/30448 [00:06<00:56, 477.04it/s]Caching images (8.2GB Disk):  12%|█▏        | 3512/30448 [00:06<00:57, 471.18it/s]Caching images (8.3GB Disk):  12%|█▏        | 3560/30448 [00:06<00:58, 460.94it/s]Caching images (8.4GB Disk):  12%|█▏        | 3607/30448 [00:06<01:00, 445.94it/s]Caching images (8.6GB Disk):  12%|█▏        | 3669/30448 [00:06<00:55, 483.49it/s]Caching images (8.7GB Disk):  12%|█▏        | 3750/30448 [00:06<00:47, 559.86it/s]Caching images (8.9GB Disk):  13%|█▎        | 3823/30448 [00:06<00:43, 605.93it/s]Caching images (9.1GB Disk):  13%|█▎        | 3901/30448 [00:06<00:40, 654.22it/s]Caching images (9.3GB Disk):  13%|█▎        | 3973/30448 [00:06<00:40, 650.92it/s]Caching images (9.4GB Disk):  13%|█▎        | 4039/30448 [00:07<00:40, 653.03it/s]Caching images (9.6GB Disk):  13%|█▎        | 4110/30448 [00:07<00:39, 665.61it/s]Caching images (9.7GB Disk):  14%|█▎        | 4177/30448 [00:07<00:49, 532.84it/s]Caching images (9.9GB Disk):  14%|█▍        | 4235/30448 [00:07<00:50, 518.01it/s]Caching images (10.0GB Disk):  14%|█▍        | 4290/30448 [00:07<00:51, 506.78it/s]Caching images (10.1GB Disk):  14%|█▍        | 4343/30448 [00:07<00:54, 480.56it/s]Caching images (10.2GB Disk):  14%|█▍        | 4393/30448 [00:07<00:56, 459.20it/s]Caching images (10.4GB Disk):  15%|█▍        | 4440/30448 [00:07<00:58, 444.97it/s]Caching images (10.5GB Disk):  15%|█▍        | 4486/30448 [00:08<00:58, 444.48it/s]Caching images (10.6GB Disk):  15%|█▍        | 4531/30448 [00:08<00:58, 440.69it/s]Caching images (10.7GB Disk):  15%|█▌        | 4576/30448 [00:08<01:00, 429.50it/s]Caching images (10.8GB Disk):  15%|█▌        | 4639/30448 [00:08<00:53, 483.23it/s]Caching images (11.0GB Disk):  15%|█▌        | 4717/30448 [00:08<00:46, 554.70it/s]Caching images (11.1GB Disk):  16%|█▌        | 4773/30448 [00:08<00:59, 432.72it/s]Caching images (11.2GB Disk):  16%|█▌        | 4821/30448 [00:08<00:57, 442.88it/s]Caching images (11.4GB Disk):  16%|█▌        | 4869/30448 [00:08<00:58, 435.74it/s]Caching images (11.5GB Disk):  16%|█▌        | 4915/30448 [00:09<00:59, 426.38it/s]Caching images (11.6GB Disk):  16%|█▋        | 4960/30448 [00:09<00:59, 431.70it/s]Caching images (11.7GB Disk):  16%|█▋        | 5005/30448 [00:09<01:03, 402.33it/s]Caching images (11.8GB Disk):  17%|█▋        | 5075/30448 [00:09<00:52, 479.89it/s]Caching images (12.0GB Disk):  17%|█▋        | 5140/30448 [00:09<00:48, 522.93it/s]Caching images (12.2GB Disk):  17%|█▋        | 5215/30448 [00:09<00:43, 577.57it/s]Caching images (12.4GB Disk):  17%|█▋        | 5298/30448 [00:09<00:38, 646.13it/s]Caching images (12.5GB Disk):  18%|█▊        | 5369/30448 [00:09<00:37, 662.13it/s]Caching images (12.7GB Disk):  18%|█▊        | 5450/30448 [00:09<00:35, 702.96it/s]Caching images (12.9GB Disk):  18%|█▊        | 5522/30448 [00:10<00:39, 631.47it/s]Caching images (13.0GB Disk):  18%|█▊        | 5588/30448 [00:10<00:51, 483.58it/s]Caching images (13.2GB Disk):  19%|█▊        | 5643/30448 [00:10<00:53, 466.56it/s]Caching images (13.3GB Disk):  19%|█▊        | 5694/30448 [00:10<00:55, 443.86it/s]Caching images (13.4GB Disk):  19%|█▉        | 5742/30448 [00:10<00:55, 446.71it/s]Caching images (13.5GB Disk):  19%|█▉        | 5789/30448 [00:10<00:56, 434.25it/s]Caching images (13.6GB Disk):  19%|█▉        | 5834/30448 [00:10<00:57, 431.14it/s]Caching images (13.7GB Disk):  19%|█▉        | 5884/30448 [00:10<00:56, 432.45it/s]Caching images (13.9GB Disk):  20%|█▉        | 5945/30448 [00:11<00:52, 469.76it/s]Caching images (14.0GB Disk):  20%|█▉        | 6019/30448 [00:11<00:45, 541.70it/s]Caching images (14.2GB Disk):  20%|█▉        | 6085/30448 [00:11<00:42, 573.39it/s]Caching images (14.3GB Disk):  20%|██        | 6144/30448 [00:11<00:49, 495.29it/s]Caching images (14.5GB Disk):  20%|██        | 6197/30448 [00:11<00:50, 477.15it/s]Caching images (14.6GB Disk):  21%|██        | 6247/30448 [00:11<00:52, 465.39it/s]Caching images (14.7GB Disk):  21%|██        | 6295/30448 [00:11<00:53, 454.67it/s]Caching images (14.8GB Disk):  21%|██        | 6342/30448 [00:11<00:53, 449.27it/s]Caching images (14.9GB Disk):  21%|██        | 6393/30448 [00:11<00:52, 460.43it/s]Caching images (15.1GB Disk):  21%|██        | 6452/30448 [00:12<00:48, 495.10it/s]Caching images (15.2GB Disk):  21%|██▏       | 6533/30448 [00:12<00:41, 583.12it/s]Caching images (15.4GB Disk):  22%|██▏       | 6593/30448 [00:12<00:41, 574.22it/s]Caching images (15.6GB Disk):  22%|██▏       | 6667/30448 [00:12<00:38, 619.35it/s]Caching images (15.7GB Disk):  22%|██▏       | 6742/30448 [00:12<00:36, 655.96it/s]Caching images (15.9GB Disk):  22%|██▏       | 6817/30448 [00:12<00:34, 680.07it/s]Caching images (16.1GB Disk):  23%|██▎       | 6886/30448 [00:12<00:38, 608.65it/s]Caching images (16.2GB Disk):  23%|██▎       | 6949/30448 [00:13<00:55, 422.85it/s]Caching images (16.3GB Disk):  23%|██▎       | 7000/30448 [00:13<00:53, 434.76it/s]Caching images (16.4GB Disk):  23%|██▎       | 7050/30448 [00:13<00:54, 427.18it/s]Caching images (16.6GB Disk):  23%|██▎       | 7098/30448 [00:13<01:01, 380.22it/s]Caching images (16.7GB Disk):  23%|██▎       | 7140/30448 [00:13<01:04, 363.58it/s]Caching images (16.8GB Disk):  24%|██▎       | 7183/30448 [00:13<01:02, 374.23it/s]Caching images (16.9GB Disk):  24%|██▎       | 7223/30448 [00:13<01:01, 376.47it/s]Caching images (16.9GB Disk):  24%|██▍       | 7265/30448 [00:13<01:02, 372.77it/s]Caching images (17.1GB Disk):  24%|██▍       | 7323/30448 [00:13<00:54, 425.65it/s]Caching images (17.2GB Disk):  24%|██▍       | 7367/30448 [00:14<01:00, 379.04it/s]Caching images (17.3GB Disk):  24%|██▍       | 7415/30448 [00:14<00:57, 403.22it/s]Caching images (17.4GB Disk):  24%|██▍       | 7457/30448 [00:14<00:58, 394.49it/s]Caching images (17.5GB Disk):  25%|██▍       | 7513/30448 [00:14<00:52, 433.27it/s]Caching images (17.7GB Disk):  25%|██▍       | 7582/30448 [00:14<00:45, 500.23it/s]Caching images (17.9GB Disk):  25%|██▌       | 7657/30448 [00:14<00:40, 567.36it/s]Caching images (18.0GB Disk):  25%|██▌       | 7723/30448 [00:14<00:39, 581.93it/s]Caching images (18.2GB Disk):  26%|██▌       | 7788/30448 [00:14<00:37, 601.02it/s]Caching images (18.3GB Disk):  26%|██▌       | 7862/30448 [00:14<00:35, 640.07it/s]Caching images (18.5GB Disk):  26%|██▌       | 7943/30448 [00:15<00:32, 686.82it/s]Caching images (18.7GB Disk):  26%|██▋       | 8013/30448 [00:15<00:33, 675.70it/s]Caching images (18.9GB Disk):  27%|██▋       | 8083/30448 [00:15<00:33, 663.70it/s]Caching images (19.0GB Disk):  27%|██▋       | 8150/30448 [00:15<00:41, 538.81it/s]Caching images (19.2GB Disk):  27%|██▋       | 8208/30448 [00:15<00:54, 410.56it/s]Caching images (19.3GB Disk):  27%|██▋       | 8256/30448 [00:15<00:54, 404.16it/s]Caching images (19.4GB Disk):  27%|██▋       | 8305/30448 [00:15<00:53, 414.97it/s]Caching images (19.5GB Disk):  27%|██▋       | 8351/30448 [00:16<00:55, 398.57it/s]Caching images (19.6GB Disk):  28%|██▊       | 8394/30448 [00:16<00:56, 387.55it/s]Caching images (19.7GB Disk):  28%|██▊       | 8435/30448 [00:16<00:57, 385.00it/s]Caching images (19.8GB Disk):  28%|██▊       | 8475/30448 [00:16<00:56, 388.07it/s]Caching images (19.9GB Disk):  28%|██▊       | 8518/30448 [00:16<00:55, 392.20it/s]Caching images (20.0GB Disk):  28%|██▊       | 8558/30448 [00:16<00:56, 387.03it/s]Caching images (20.1GB Disk):  28%|██▊       | 8598/30448 [00:16<01:02, 348.02it/s]Caching images (20.1GB Disk):  28%|██▊       | 8635/30448 [00:16<01:03, 342.15it/s]Caching images (20.3GB Disk):  29%|██▊       | 8708/30448 [00:16<00:48, 443.83it/s]Caching images (20.5GB Disk):  29%|██▉       | 8786/30448 [00:17<00:40, 532.16it/s]Caching images (20.6GB Disk):  29%|██▉       | 8842/30448 [00:17<01:17, 279.33it/s]Caching images (20.7GB Disk):  29%|██▉       | 8885/30448 [00:17<01:13, 293.62it/s]Caching images (20.8GB Disk):  29%|██▉       | 8926/30448 [00:17<01:08, 313.92it/s]Caching images (21.0GB Disk):  30%|██▉       | 9006/30448 [00:17<00:51, 416.03it/s]Caching images (21.2GB Disk):  30%|██▉       | 9083/30448 [00:17<00:43, 495.93it/s]Caching images (21.4GB Disk):  30%|███       | 9155/30448 [00:18<00:38, 551.21it/s]Caching images (21.5GB Disk):  30%|███       | 9229/30448 [00:18<00:36, 588.35it/s]Caching images (21.7GB Disk):  31%|███       | 9300/30448 [00:18<00:34, 613.97it/s]Caching images (21.8GB Disk):  31%|███       | 9366/30448 [00:18<00:33, 623.42it/s]Caching images (22.0GB Disk):  31%|███       | 9437/30448 [00:18<00:32, 637.00it/s]Caching images (22.2GB Disk):  31%|███       | 9503/30448 [00:18<00:36, 569.08it/s]Caching images (22.3GB Disk):  31%|███▏      | 9563/30448 [00:18<00:50, 409.88it/s]Caching images (22.4GB Disk):  32%|███▏      | 9612/30448 [00:18<00:51, 407.21it/s]Caching images (22.5GB Disk):  32%|███▏      | 9659/30448 [00:19<00:52, 395.10it/s]Caching images (22.6GB Disk):  32%|███▏      | 9705/30448 [00:19<00:51, 404.92it/s]Caching images (22.7GB Disk):  32%|███▏      | 9749/30448 [00:19<00:50, 409.94it/s]Caching images (22.8GB Disk):  32%|███▏      | 9793/30448 [00:19<00:53, 389.71it/s]Caching images (22.9GB Disk):  32%|███▏      | 9834/30448 [00:19<00:55, 372.79it/s]Caching images (23.0GB Disk):  32%|███▏      | 9873/30448 [00:19<00:55, 367.85it/s]Caching images (23.1GB Disk):  33%|███▎      | 9911/30448 [00:19<00:55, 369.91it/s]Caching images (23.3GB Disk):  33%|███▎      | 9973/30448 [00:19<00:52, 387.69it/s]Caching images (23.4GB Disk):  33%|███▎      | 10018/30448 [00:19<00:50, 403.12it/s]Caching images (23.5GB Disk):  33%|███▎      | 10064/30448 [00:20<00:48, 417.09it/s]Caching images (23.6GB Disk):  33%|███▎      | 10107/30448 [00:20<00:51, 397.26it/s]Caching images (23.7GB Disk):  33%|███▎      | 10148/30448 [00:20<00:51, 391.36it/s]Caching images (23.8GB Disk):  34%|███▎      | 10212/30448 [00:20<00:44, 455.45it/s]Caching images (24.0GB Disk):  34%|███▎      | 10270/30448 [00:20<00:41, 485.17it/s]Caching images (24.1GB Disk):  34%|███▍      | 10343/30448 [00:20<00:36, 550.31it/s]Caching images (24.3GB Disk):  34%|███▍      | 10418/30448 [00:20<00:33, 601.89it/s]Caching images (24.5GB Disk):  34%|███▍      | 10490/30448 [00:20<00:31, 625.39it/s]Caching images (24.6GB Disk):  35%|███▍      | 10558/30448 [00:20<00:31, 638.41it/s]Caching images (24.8GB Disk):  35%|███▍      | 10623/30448 [00:21<00:31, 637.23it/s]Caching images (25.0GB Disk):  35%|███▌      | 10700/30448 [00:21<00:29, 674.09it/s]Caching images (25.1GB Disk):  35%|███▌      | 10768/30448 [00:21<00:33, 580.90it/s]Caching images (25.3GB Disk):  36%|███▌      | 10829/30448 [00:21<00:43, 449.92it/s]Caching images (25.4GB Disk):  36%|███▌      | 10880/30448 [00:21<00:45, 429.41it/s]Caching images (25.5GB Disk):  36%|███▌      | 10927/30448 [00:21<00:48, 401.91it/s]Caching images (25.6GB Disk):  36%|███▌      | 10970/30448 [00:21<00:51, 379.86it/s]Caching images (25.7GB Disk):  36%|███▌      | 11013/30448 [00:22<00:50, 383.02it/s]Caching images (25.8GB Disk):  36%|███▋      | 11053/30448 [00:22<00:50, 384.88it/s]Caching images (25.9GB Disk):  36%|███▋      | 11093/30448 [00:22<00:49, 387.23it/s]Caching images (26.0GB Disk):  37%|███▋      | 11133/30448 [00:22<00:50, 381.72it/s]Caching images (26.1GB Disk):  37%|███▋      | 11173/30448 [00:22<00:50, 382.85it/s]Caching images (26.2GB Disk):  37%|███▋      | 11222/30448 [00:22<00:47, 403.62it/s]Caching images (26.3GB Disk):  37%|███▋      | 11263/30448 [00:22<00:49, 385.27it/s]Caching images (26.4GB Disk):  37%|███▋      | 11302/30448 [00:22<00:54, 350.25it/s]Caching images (26.5GB Disk):  37%|███▋      | 11344/30448 [00:22<00:52, 366.16it/s]Caching images (26.6GB Disk):  37%|███▋      | 11382/30448 [00:23<00:52, 364.97it/s]Caching images (26.6GB Disk):  38%|███▊      | 11419/30448 [00:23<00:53, 355.08it/s]Caching images (26.7GB Disk):  38%|███▊      | 11460/30448 [00:23<00:51, 369.91it/s]Caching images (26.9GB Disk):  38%|███▊      | 11536/30448 [00:23<00:39, 479.77it/s]Caching images (27.1GB Disk):  38%|███▊      | 11603/30448 [00:23<00:35, 532.90it/s]Caching images (27.2GB Disk):  38%|███▊      | 11673/30448 [00:23<00:32, 574.79it/s]Caching images (27.4GB Disk):  39%|███▊      | 11749/30448 [00:23<00:29, 626.88it/s]Caching images (27.6GB Disk):  39%|███▉      | 11822/30448 [00:23<00:28, 656.61it/s]Caching images (27.7GB Disk):  39%|███▉      | 11889/30448 [00:23<00:28, 657.35it/s]Caching images (27.9GB Disk):  39%|███▉      | 11960/30448 [00:23<00:27, 667.15it/s]Caching images (28.0GB Disk):  40%|███▉      | 12033/30448 [00:24<00:26, 684.15it/s]Caching images (28.1GB Disk):  40%|███▉      | 12103/30448 [00:24<00:26, 686.40it/s]Caching images (28.2GB Disk):  40%|███▉      | 12172/30448 [00:24<00:32, 555.17it/s]Caching images (28.2GB Disk):  40%|████      | 12232/30448 [00:24<00:45, 400.01it/s]Caching images (28.3GB Disk):  40%|████      | 12281/30448 [00:24<00:45, 403.12it/s]Caching images (28.3GB Disk):  40%|████      | 12328/30448 [00:24<00:46, 390.82it/s]Caching images (28.4GB Disk):  41%|████      | 12372/30448 [00:24<00:45, 399.87it/s]Caching images (28.4GB Disk):  41%|████      | 12416/30448 [00:25<00:45, 395.82it/s]Caching images (28.5GB Disk):  41%|████      | 12458/30448 [00:25<00:46, 384.63it/s]Caching images (28.5GB Disk):  41%|████      | 12498/30448 [00:25<00:46, 382.79it/s]Caching images (28.6GB Disk):  41%|████      | 12547/30448 [00:25<00:43, 410.38it/s]Caching images (28.6GB Disk):  41%|████▏     | 12630/30448 [00:25<00:34, 520.33it/s]Caching images (28.7GB Disk):  42%|████▏     | 12741/30448 [00:25<00:26, 672.30it/s]Caching images (28.9GB Disk):  42%|████▏     | 12879/30448 [00:25<00:20, 869.75it/s]Caching images (29.0GB Disk):  43%|████▎     | 13003/30448 [00:25<00:17, 973.39it/s]Caching images (29.1GB Disk):  43%|████▎     | 13114/30448 [00:25<00:17, 1009.47it/s]Caching images (29.2GB Disk):  43%|████▎     | 13231/30448 [00:26<00:16, 1052.96it/s]Caching images (29.3GB Disk):  44%|████▍     | 13338/30448 [00:26<00:16, 1030.53it/s]Caching images (29.5GB Disk):  44%|████▍     | 13446/30448 [00:26<00:16, 1038.73it/s]Caching images (29.6GB Disk):  45%|████▍     | 13562/30448 [00:26<00:15, 1072.23it/s]Caching images (29.7GB Disk):  45%|████▍     | 13670/30448 [00:26<00:16, 1047.42it/s]Caching images (29.8GB Disk):  45%|████▌     | 13776/30448 [00:26<00:15, 1050.68it/s]Caching images (29.9GB Disk):  46%|████▌     | 13882/30448 [00:26<00:16, 974.69it/s] Caching images (30.0GB Disk):  46%|████▌     | 13987/30448 [00:26<00:16, 993.21it/s]Caching images (30.1GB Disk):  46%|████▋     | 14088/30448 [00:26<00:17, 910.00it/s]Caching images (30.2GB Disk):  47%|████▋     | 14181/30448 [00:27<00:33, 482.50it/s]Caching images (30.3GB Disk):  47%|████▋     | 14253/30448 [00:27<00:33, 485.37it/s]Caching images (30.3GB Disk):  47%|████▋     | 14318/30448 [00:27<00:32, 498.73it/s]Caching images (30.4GB Disk):  47%|████▋     | 14380/30448 [00:27<00:32, 501.83it/s]Caching images (30.5GB Disk):  47%|████▋     | 14439/30448 [00:27<00:31, 509.33it/s]Caching images (30.6GB Disk):  48%|████▊     | 14533/30448 [00:27<00:26, 606.66it/s]Caching images (30.7GB Disk):  48%|████▊     | 14638/30448 [00:28<00:22, 715.51it/s]Caching images (30.8GB Disk):  48%|████▊     | 14741/30448 [00:28<00:19, 795.10it/s]Caching images (30.8GB Disk):  49%|████▊     | 14827/30448 [00:28<00:20, 760.33it/s]Caching images (30.9GB Disk):  49%|████▉     | 14927/30448 [00:28<00:18, 818.15it/s]Caching images (31.1GB Disk):  49%|████▉     | 15030/30448 [00:28<00:17, 876.17it/s]Caching images (31.2GB Disk):  50%|████▉     | 15133/30448 [00:28<00:16, 917.82it/s]Caching images (31.3GB Disk):  50%|█████     | 15244/30448 [00:28<00:15, 969.68it/s]Caching images (31.4GB Disk):  50%|█████     | 15343/30448 [00:28<00:15, 945.85it/s]Caching images (31.5GB Disk):  51%|█████     | 15440/30448 [00:28<00:18, 811.65it/s]Caching images (31.6GB Disk):  51%|█████     | 15555/30448 [00:29<00:16, 898.23it/s]Caching images (31.7GB Disk):  52%|█████▏    | 15681/30448 [00:29<00:14, 987.67it/s]Caching images (31.8GB Disk):  52%|█████▏    | 15785/30448 [00:29<00:14, 986.95it/s]Caching images (31.9GB Disk):  52%|█████▏    | 15892/30448 [00:29<00:14, 1009.86it/s]Caching images (32.0GB Disk):  53%|█████▎    | 15996/30448 [00:29<00:14, 1000.79it/s]Caching images (32.1GB Disk):  53%|█████▎    | 16113/30448 [00:29<00:13, 1045.36it/s]Caching images (32.2GB Disk):  53%|█████▎    | 16219/30448 [00:29<00:19, 741.82it/s] Caching images (32.3GB Disk):  54%|█████▎    | 16307/30448 [00:29<00:20, 675.37it/s]Caching images (32.4GB Disk):  54%|█████▍    | 16385/30448 [00:30<00:22, 617.57it/s]Caching images (32.5GB Disk):  54%|█████▍    | 16454/30448 [00:30<00:23, 596.58it/s]Caching images (32.5GB Disk):  54%|█████▍    | 16519/30448 [00:30<00:23, 604.05it/s]Caching images (32.6GB Disk):  54%|█████▍    | 16583/30448 [00:30<00:23, 591.89it/s]Caching images (32.7GB Disk):  55%|█████▍    | 16645/30448 [00:30<00:24, 560.43it/s]Caching images (32.7GB Disk):  55%|█████▍    | 16703/30448 [00:30<00:25, 540.88it/s]Caching images (32.8GB Disk):  55%|█████▌    | 16800/30448 [00:30<00:21, 643.83it/s]Caching images (33.0GB Disk):  56%|█████▌    | 16921/30448 [00:30<00:17, 793.37it/s]Caching images (33.0GB Disk):  56%|█████▌    | 17004/30448 [00:31<00:19, 691.69it/s]Caching images (33.1GB Disk):  56%|█████▌    | 17088/30448 [00:31<00:18, 716.80it/s]Caching images (33.2GB Disk):  56%|█████▋    | 17179/30448 [00:31<00:17, 764.52it/s]Caching images (33.3GB Disk):  57%|█████▋    | 17300/30448 [00:31<00:15, 873.75it/s]Caching images (33.5GB Disk):  57%|█████▋    | 17416/30448 [00:31<00:13, 945.14it/s]Caching images (33.5GB Disk):  58%|█████▊    | 17513/30448 [00:31<00:14, 910.93it/s]Caching images (33.7GB Disk):  58%|█████▊    | 17619/30448 [00:31<00:13, 952.37it/s]Caching images (33.8GB Disk):  58%|█████▊    | 17720/30448 [00:31<00:13, 966.06it/s]Caching images (33.9GB Disk):  59%|█████▊    | 17835/30448 [00:31<00:12, 1011.68it/s]Caching images (34.0GB Disk):  59%|█████▉    | 17950/30448 [00:31<00:12, 1037.41it/s]Caching images (34.1GB Disk):  59%|█████▉    | 18055/30448 [00:32<00:12, 1019.36it/s]Caching images (34.2GB Disk):  60%|█████▉    | 18158/30448 [00:32<00:12, 992.34it/s] Caching images (34.5GB Disk):  60%|█████▉    | 18258/30448 [00:32<00:19, 638.58it/s]Caching images (35.0GB Disk):  60%|██████    | 18338/30448 [00:32<00:26, 453.32it/s]Caching images (35.3GB Disk):  60%|██████    | 18402/30448 [00:33<00:31, 381.71it/s]Caching images (35.6GB Disk):  61%|██████    | 18454/30448 [00:33<00:35, 335.86it/s]Caching images (35.9GB Disk):  61%|██████    | 18497/30448 [00:33<00:37, 320.97it/s]Caching images (36.1GB Disk):  61%|██████    | 18536/30448 [00:33<00:39, 304.54it/s]Caching images (36.3GB Disk):  61%|██████    | 18571/30448 [00:33<00:40, 291.03it/s]Caching images (36.5GB Disk):  61%|██████    | 18603/30448 [00:33<00:42, 276.01it/s]Caching images (36.7GB Disk):  61%|██████    | 18632/30448 [00:34<00:47, 246.58it/s]Caching images (36.8GB Disk):  61%|██████▏   | 18658/30448 [00:34<01:02, 189.77it/s]Caching images (37.0GB Disk):  61%|██████▏   | 18680/30448 [00:34<01:10, 166.36it/s]Caching images (37.1GB Disk):  61%|██████▏   | 18699/30448 [00:34<01:14, 157.52it/s]Caching images (37.2GB Disk):  61%|██████▏   | 18716/30448 [00:34<01:15, 156.27it/s]Caching images (37.3GB Disk):  62%|██████▏   | 18733/30448 [00:34<01:15, 155.54it/s]Caching images (37.4GB Disk):  62%|██████▏   | 18749/30448 [00:35<01:24, 138.58it/s]Caching images (37.4GB Disk):  62%|██████▏   | 18764/30448 [00:35<01:28, 132.75it/s]Caching images (37.5GB Disk):  62%|██████▏   | 18782/30448 [00:35<01:22, 141.55it/s]Caching images (37.7GB Disk):  62%|██████▏   | 18804/30448 [00:35<01:14, 156.64it/s]Caching images (37.8GB Disk):  62%|██████▏   | 18821/30448 [00:35<01:20, 144.23it/s]Caching images (37.9GB Disk):  62%|██████▏   | 18836/30448 [00:35<01:20, 143.44it/s]Caching images (38.0GB Disk):  62%|██████▏   | 18852/30448 [00:35<01:20, 144.69it/s]Caching images (38.0GB Disk):  62%|██████▏   | 18869/30448 [00:35<01:18, 148.10it/s]Caching images (38.1GB Disk):  62%|██████▏   | 18884/30448 [00:35<01:20, 143.64it/s]Caching images (38.3GB Disk):  62%|██████▏   | 18907/30448 [00:36<01:09, 166.75it/s]Caching images (38.4GB Disk):  62%|██████▏   | 18931/30448 [00:36<01:02, 184.59it/s]Caching images (38.5GB Disk):  62%|██████▏   | 18955/30448 [00:36<01:00, 188.79it/s]Caching images (38.7GB Disk):  62%|██████▏   | 18979/30448 [00:36<00:59, 193.14it/s]Caching images (38.8GB Disk):  62%|██████▏   | 19003/30448 [00:36<00:56, 201.76it/s]Caching images (39.0GB Disk):  62%|██████▏   | 19027/30448 [00:36<00:54, 209.41it/s]Caching images (39.1GB Disk):  63%|██████▎   | 19049/30448 [00:36<00:54, 207.48it/s]Caching images (39.2GB Disk):  63%|██████▎   | 19074/30448 [00:36<00:54, 206.83it/s]Caching images (39.4GB Disk):  63%|██████▎   | 19098/30448 [00:36<00:53, 213.02it/s]Caching images (39.5GB Disk):  63%|██████▎   | 19122/30448 [00:37<00:52, 216.02it/s]Caching images (39.6GB Disk):  63%|██████▎   | 19144/30448 [00:37<00:52, 214.25it/s]Caching images (39.8GB Disk):  63%|██████▎   | 19166/30448 [00:37<00:53, 210.83it/s]Caching images (39.9GB Disk):  63%|██████▎   | 19189/30448 [00:37<00:54, 207.09it/s]Caching images (40.0GB Disk):  63%|██████▎   | 19210/30448 [00:37<00:56, 198.00it/s]Caching images (40.2GB Disk):  63%|██████▎   | 19232/30448 [00:37<00:55, 200.64it/s]Caching images (40.3GB Disk):  63%|██████▎   | 19254/30448 [00:37<00:54, 203.55it/s]Caching images (40.4GB Disk):  63%|██████▎   | 19275/30448 [00:37<00:54, 203.78it/s]Caching images (40.5GB Disk):  63%|██████▎   | 19298/30448 [00:37<00:54, 203.03it/s]Caching images (40.7GB Disk):  63%|██████▎   | 19320/30448 [00:38<00:54, 205.37it/s]Caching images (40.8GB Disk):  64%|██████▎   | 19341/30448 [00:38<00:56, 194.89it/s]Caching images (40.9GB Disk):  64%|██████▎   | 19366/30448 [00:38<00:54, 202.80it/s]Caching images (41.1GB Disk):  64%|██████▎   | 19390/30448 [00:38<00:52, 211.48it/s]Caching images (41.2GB Disk):  64%|██████▍   | 19420/30448 [00:38<00:47, 231.26it/s]Caching images (41.4GB Disk):  64%|██████▍   | 19454/30448 [00:38<00:43, 255.58it/s]Caching images (41.6GB Disk):  64%|██████▍   | 19488/30448 [00:38<00:41, 265.84it/s]Caching images (41.8GB Disk):  64%|██████▍   | 19520/30448 [00:38<00:39, 279.00it/s]Caching images (42.0GB Disk):  64%|██████▍   | 19548/30448 [00:38<00:42, 256.37it/s]Caching images (42.1GB Disk):  64%|██████▍   | 19574/30448 [00:39<00:42, 256.68it/s]Caching images (42.3GB Disk):  64%|██████▍   | 19601/30448 [00:39<00:42, 252.93it/s]Caching images (42.4GB Disk):  64%|██████▍   | 19627/30448 [00:39<00:43, 248.29it/s]Caching images (42.6GB Disk):  65%|██████▍   | 19652/30448 [00:39<00:45, 235.83it/s]Caching images (42.7GB Disk):  65%|██████▍   | 19677/30448 [00:39<00:45, 234.99it/s]Caching images (42.9GB Disk):  65%|██████▍   | 19701/30448 [00:39<00:45, 234.38it/s]Caching images (43.0GB Disk):  65%|██████▍   | 19725/30448 [00:39<00:49, 217.53it/s]Caching images (43.1GB Disk):  65%|██████▍   | 19749/30448 [00:39<00:48, 221.84it/s]Caching images (43.3GB Disk):  65%|██████▍   | 19772/30448 [00:39<00:47, 222.62it/s]Caching images (43.4GB Disk):  65%|██████▌   | 19801/30448 [00:40<00:44, 238.13it/s]Caching images (43.6GB Disk):  65%|██████▌   | 19833/30448 [00:40<00:40, 260.42it/s]Caching images (43.8GB Disk):  65%|██████▌   | 19865/30448 [00:40<00:39, 265.63it/s]Caching images (44.0GB Disk):  65%|██████▌   | 19892/30448 [00:40<00:40, 263.86it/s]Caching images (44.1GB Disk):  65%|██████▌   | 19919/30448 [00:40<00:42, 245.28it/s]Caching images (44.3GB Disk):  66%|██████▌   | 19944/30448 [00:40<00:43, 244.23it/s]Caching images (44.4GB Disk):  66%|██████▌   | 19969/30448 [00:40<00:46, 225.95it/s]Caching images (44.6GB Disk):  66%|██████▌   | 19992/30448 [00:40<00:46, 225.51it/s]Caching images (44.7GB Disk):  66%|██████▌   | 20015/30448 [00:40<00:46, 223.83it/s]Caching images (44.8GB Disk):  66%|██████▌   | 20041/30448 [00:41<00:44, 231.57it/s]Caching images (45.0GB Disk):  66%|██████▌   | 20068/30448 [00:41<00:43, 240.05it/s]Caching images (45.1GB Disk):  66%|██████▌   | 20093/30448 [00:41<00:44, 233.97it/s]Caching images (45.3GB Disk):  66%|██████▌   | 20120/30448 [00:41<00:42, 240.69it/s]Caching images (45.5GB Disk):  66%|██████▌   | 20154/30448 [00:41<00:38, 264.10it/s]Caching images (45.7GB Disk):  66%|██████▋   | 20186/30448 [00:41<00:37, 277.09it/s]Caching images (45.8GB Disk):  66%|██████▋   | 20214/30448 [00:41<00:38, 267.10it/s]Caching images (46.0GB Disk):  66%|██████▋   | 20241/30448 [00:41<00:41, 247.90it/s]Caching images (46.1GB Disk):  67%|██████▋   | 20267/30448 [00:41<00:41, 245.08it/s]Caching images (46.3GB Disk):  67%|██████▋   | 20292/30448 [00:42<00:42, 239.80it/s]Caching images (46.4GB Disk):  67%|██████▋   | 20317/30448 [00:42<00:44, 229.67it/s]Caching images (46.6GB Disk):  67%|██████▋   | 20341/30448 [00:42<00:44, 229.27it/s]Caching images (46.7GB Disk):  67%|██████▋   | 20365/30448 [00:42<00:44, 229.05it/s]Caching images (46.9GB Disk):  67%|██████▋   | 20388/30448 [00:42<00:45, 223.38it/s]Caching images (47.0GB Disk):  67%|██████▋   | 20411/30448 [00:42<00:45, 222.50it/s]Caching images (47.1GB Disk):  67%|██████▋   | 20434/30448 [00:42<00:44, 223.51it/s]Caching images (47.2GB Disk):  67%|██████▋   | 20457/30448 [00:42<00:45, 217.34it/s]Caching images (47.4GB Disk):  67%|██████▋   | 20490/30448 [00:42<00:40, 244.87it/s]Caching images (47.6GB Disk):  67%|██████▋   | 20521/30448 [00:43<00:39, 251.91it/s]Caching images (47.8GB Disk):  67%|██████▋   | 20547/30448 [00:43<00:40, 245.16it/s]Caching images (47.9GB Disk):  68%|██████▊   | 20572/30448 [00:43<00:41, 237.07it/s]Caching images (48.0GB Disk):  68%|██████▊   | 20601/30448 [00:43<00:40, 243.74it/s]Caching images (48.2GB Disk):  68%|██████▊   | 20632/30448 [00:43<00:37, 259.81it/s]Caching images (48.4GB Disk):  68%|██████▊   | 20659/30448 [00:43<00:38, 251.63it/s]Caching images (48.5GB Disk):  68%|██████▊   | 20685/30448 [00:43<00:40, 242.16it/s]Caching images (48.7GB Disk):  68%|██████▊   | 20710/30448 [00:43<00:40, 238.26it/s]Caching images (48.8GB Disk):  68%|██████▊   | 20734/30448 [00:43<00:42, 229.24it/s]Caching images (48.9GB Disk):  68%|██████▊   | 20757/30448 [00:44<00:43, 221.97it/s]Caching images (49.1GB Disk):  68%|██████▊   | 20787/30448 [00:44<00:41, 234.65it/s]Caching images (49.3GB Disk):  68%|██████▊   | 20821/30448 [00:44<00:37, 254.89it/s]Caching images (49.5GB Disk):  68%|██████▊   | 20854/30448 [00:44<00:35, 267.21it/s]Caching images (49.7GB Disk):  69%|██████▊   | 20881/30448 [00:44<00:35, 267.63it/s]Caching images (49.8GB Disk):  69%|██████▊   | 20908/30448 [00:44<00:35, 267.13it/s]Caching images (50.0GB Disk):  69%|██████▉   | 20935/30448 [00:44<00:36, 262.52it/s]Caching images (50.1GB Disk):  69%|██████▉   | 20962/30448 [00:44<00:38, 247.06it/s]Caching images (50.3GB Disk):  69%|██████▉   | 20988/30448 [00:44<00:37, 250.35it/s]Caching images (50.4GB Disk):  69%|██████▉   | 21014/30448 [00:45<00:39, 241.19it/s]Caching images (50.6GB Disk):  69%|██████▉   | 21039/30448 [00:45<00:42, 219.17it/s]Caching images (50.7GB Disk):  69%|██████▉   | 21062/30448 [00:45<00:43, 217.81it/s]Caching images (50.9GB Disk):  69%|██████▉   | 21088/30448 [00:45<00:41, 223.02it/s]Caching images (51.0GB Disk):  69%|██████▉   | 21113/30448 [00:45<00:42, 221.84it/s]Caching images (51.2GB Disk):  69%|██████▉   | 21146/30448 [00:45<00:37, 250.65it/s]Caching images (51.4GB Disk):  70%|██████▉   | 21173/30448 [00:45<00:37, 249.26it/s]Caching images (51.5GB Disk):  70%|██████▉   | 21199/30448 [00:45<00:38, 240.59it/s]Caching images (51.7GB Disk):  70%|██████▉   | 21224/30448 [00:45<00:38, 239.19it/s]Caching images (51.8GB Disk):  70%|██████▉   | 21249/30448 [00:46<00:38, 236.11it/s]Caching images (51.9GB Disk):  70%|██████▉   | 21273/30448 [00:46<00:40, 228.93it/s]Caching images (52.1GB Disk):  70%|██████▉   | 21297/30448 [00:46<00:41, 218.85it/s]Caching images (52.2GB Disk):  70%|███████   | 21322/30448 [00:46<00:40, 225.30it/s]Caching images (52.4GB Disk):  70%|███████   | 21349/30448 [00:46<00:39, 230.61it/s]Caching images (52.5GB Disk):  70%|███████   | 21373/30448 [00:46<00:39, 229.63it/s]Caching images (52.7GB Disk):  70%|███████   | 21397/30448 [00:46<00:39, 231.51it/s]Caching images (52.8GB Disk):  70%|███████   | 21421/30448 [00:46<00:39, 230.35it/s]Caching images (53.0GB Disk):  70%|███████   | 21455/30448 [00:46<00:34, 259.19it/s]Caching images (53.2GB Disk):  71%|███████   | 21489/30448 [00:47<00:32, 275.83it/s]Caching images (53.4GB Disk):  71%|███████   | 21517/30448 [00:47<00:33, 263.16it/s]Caching images (53.5GB Disk):  71%|███████   | 21544/30448 [00:47<00:35, 254.37it/s]Caching images (53.7GB Disk):  71%|███████   | 21570/30448 [00:47<00:35, 252.28it/s]Caching images (53.8GB Disk):  71%|███████   | 21596/30448 [00:47<00:35, 246.74it/s]Caching images (54.0GB Disk):  71%|███████   | 21621/30448 [00:47<00:35, 245.39it/s]Caching images (54.1GB Disk):  71%|███████   | 21646/30448 [00:47<00:37, 236.17it/s]Caching images (54.2GB Disk):  71%|███████   | 21670/30448 [00:47<00:37, 233.94it/s]Caching images (54.4GB Disk):  71%|███████   | 21694/30448 [00:47<00:38, 227.73it/s]Caching images (54.5GB Disk):  71%|███████▏  | 21719/30448 [00:48<00:39, 223.42it/s]Caching images (54.7GB Disk):  71%|███████▏  | 21744/30448 [00:48<00:37, 230.72it/s]Caching images (54.8GB Disk):  72%|███████▏  | 21773/30448 [00:48<00:35, 246.24it/s]Caching images (55.0GB Disk):  72%|███████▏  | 21806/30448 [00:48<00:32, 264.16it/s]Caching images (55.2GB Disk):  72%|███████▏  | 21839/30448 [00:48<00:32, 264.17it/s]Caching images (55.4GB Disk):  72%|███████▏  | 21866/30448 [00:48<00:33, 254.71it/s]Caching images (55.5GB Disk):  72%|███████▏  | 21892/30448 [00:48<00:35, 241.21it/s]Caching images (55.7GB Disk):  72%|███████▏  | 21917/30448 [00:48<00:35, 239.08it/s]Caching images (55.8GB Disk):  72%|███████▏  | 21941/30448 [00:48<00:35, 237.55it/s]Caching images (55.9GB Disk):  72%|███████▏  | 21965/30448 [00:49<00:37, 226.28it/s]Caching images (56.1GB Disk):  72%|███████▏  | 21990/30448 [00:49<00:36, 230.68it/s]Caching images (56.2GB Disk):  72%|███████▏  | 22014/30448 [00:49<00:37, 227.57it/s]Caching images (56.4GB Disk):  72%|███████▏  | 22037/30448 [00:49<00:40, 209.63it/s]Caching images (56.5GB Disk):  72%|███████▏  | 22059/30448 [00:49<00:40, 208.74it/s]Caching images (56.6GB Disk):  73%|███████▎  | 22084/30448 [00:49<00:38, 214.61it/s]Caching images (56.8GB Disk):  73%|███████▎  | 22119/30448 [00:49<00:33, 249.00it/s]Caching images (57.0GB Disk):  73%|███████▎  | 22145/30448 [00:49<00:32, 251.97it/s]Caching images (57.1GB Disk):  73%|███████▎  | 22172/30448 [00:49<00:34, 243.30it/s]Caching images (57.3GB Disk):  73%|███████▎  | 22198/30448 [00:50<00:34, 239.65it/s]Caching images (57.4GB Disk):  73%|███████▎  | 22223/30448 [00:50<00:34, 235.31it/s]Caching images (57.6GB Disk):  73%|███████▎  | 22247/30448 [00:50<00:36, 226.60it/s]Caching images (57.7GB Disk):  73%|███████▎  | 22271/30448 [00:50<00:35, 228.14it/s]Caching images (57.9GB Disk):  73%|███████▎  | 22294/30448 [00:50<00:36, 222.04it/s]Caching images (58.0GB Disk):  73%|███████▎  | 22317/30448 [00:50<00:37, 219.60it/s]Caching images (58.1GB Disk):  73%|███████▎  | 22340/30448 [00:50<00:36, 222.31it/s]Caching images (58.3GB Disk):  73%|███████▎  | 22363/30448 [00:50<00:37, 216.48it/s]Caching images (58.4GB Disk):  74%|███████▎  | 22386/30448 [00:50<00:36, 218.03it/s]Caching images (58.5GB Disk):  74%|███████▎  | 22414/30448 [00:50<00:34, 234.87it/s]Caching images (58.7GB Disk):  74%|███████▎  | 22446/30448 [00:51<00:31, 256.11it/s]Caching images (58.9GB Disk):  74%|███████▍  | 22472/30448 [00:51<00:32, 243.86it/s]Caching images (59.0GB Disk):  74%|███████▍  | 22497/30448 [00:51<00:34, 229.25it/s]Caching images (59.2GB Disk):  74%|███████▍  | 22522/30448 [00:51<00:33, 233.60it/s]Caching images (59.3GB Disk):  74%|███████▍  | 22546/30448 [00:51<00:33, 232.84it/s]Caching images (59.5GB Disk):  74%|███████▍  | 22570/30448 [00:51<00:35, 223.22it/s]Caching images (59.6GB Disk):  74%|███████▍  | 22595/30448 [00:51<00:35, 224.23it/s]Caching images (59.7GB Disk):  74%|███████▍  | 22618/30448 [00:51<00:35, 222.00it/s]Caching images (59.9GB Disk):  74%|███████▍  | 22646/30448 [00:51<00:33, 231.38it/s]Caching images (60.1GB Disk):  74%|███████▍  | 22673/30448 [00:52<00:32, 239.03it/s]Caching images (60.2GB Disk):  75%|███████▍  | 22697/30448 [00:52<00:32, 235.17it/s]Caching images (60.3GB Disk):  75%|███████▍  | 22721/30448 [00:52<00:33, 233.81it/s]Caching images (60.5GB Disk):  75%|███████▍  | 22754/30448 [00:52<00:29, 260.88it/s]Caching images (60.7GB Disk):  75%|███████▍  | 22787/30448 [00:52<00:27, 277.92it/s]Caching images (60.9GB Disk):  75%|███████▍  | 22815/30448 [00:52<00:27, 273.97it/s]Caching images (61.0GB Disk):  75%|███████▌  | 22843/30448 [00:52<00:30, 252.17it/s]Caching images (61.2GB Disk):  75%|███████▌  | 22869/30448 [00:52<00:33, 226.08it/s]Caching images (61.3GB Disk):  75%|███████▌  | 22893/30448 [00:53<00:37, 201.82it/s]Caching images (61.4GB Disk):  75%|███████▌  | 22914/30448 [00:53<00:37, 202.84it/s]Caching images (61.6GB Disk):  75%|███████▌  | 22935/30448 [00:53<00:39, 189.33it/s]Caching images (61.7GB Disk):  75%|███████▌  | 22955/30448 [00:53<00:40, 186.95it/s]Caching images (61.8GB Disk):  75%|███████▌  | 22978/30448 [00:53<00:38, 196.49it/s]Caching images (61.9GB Disk):  76%|███████▌  | 23000/30448 [00:53<00:37, 197.19it/s]Caching images (62.1GB Disk):  76%|███████▌  | 23021/30448 [00:53<00:37, 199.64it/s]Caching images (62.3GB Disk):  76%|███████▌  | 23053/30448 [00:53<00:32, 230.98it/s]Caching images (62.4GB Disk):  76%|███████▌  | 23079/30448 [00:53<00:31, 234.10it/s]Caching images (62.5GB Disk):  76%|███████▌  | 23104/30448 [00:54<00:31, 233.99it/s]Caching images (62.7GB Disk):  76%|███████▌  | 23128/30448 [00:54<00:31, 230.10it/s]Caching images (62.8GB Disk):  76%|███████▌  | 23155/30448 [00:54<00:31, 232.93it/s]Caching images (63.0GB Disk):  76%|███████▌  | 23180/30448 [00:54<00:30, 234.94it/s]Caching images (63.1GB Disk):  76%|███████▌  | 23204/30448 [00:54<00:30, 235.39it/s]Caching images (63.3GB Disk):  76%|███████▋  | 23228/30448 [00:54<00:30, 233.35it/s]Caching images (63.4GB Disk):  76%|███████▋  | 23252/30448 [00:54<00:31, 224.97it/s]Caching images (63.5GB Disk):  76%|███████▋  | 23277/30448 [00:54<00:31, 226.02it/s]Caching images (63.7GB Disk):  77%|███████▋  | 23300/30448 [00:54<00:31, 223.47it/s]Caching images (63.9GB Disk):  77%|███████▋  | 23332/30448 [00:55<00:29, 238.52it/s]Caching images (64.1GB Disk):  77%|███████▋  | 23365/30448 [00:55<00:28, 246.95it/s]Caching images (64.2GB Disk):  77%|███████▋  | 23397/30448 [00:55<00:27, 254.83it/s]Caching images (64.4GB Disk):  77%|███████▋  | 23424/30448 [00:55<00:27, 255.12it/s]Caching images (64.6GB Disk):  77%|███████▋  | 23450/30448 [00:55<00:27, 255.15it/s]Caching images (64.7GB Disk):  77%|███████▋  | 23476/30448 [00:55<00:27, 252.20it/s]Caching images (64.9GB Disk):  77%|███████▋  | 23502/30448 [00:55<00:30, 225.66it/s]Caching images (65.0GB Disk):  77%|███████▋  | 23527/30448 [00:55<00:30, 230.33it/s]Caching images (65.1GB Disk):  77%|███████▋  | 23551/30448 [00:55<00:29, 230.59it/s]Caching images (65.3GB Disk):  77%|███████▋  | 23576/30448 [00:56<00:31, 221.28it/s]Caching images (65.4GB Disk):  78%|███████▊  | 23600/30448 [00:56<00:31, 218.35it/s]Caching images (65.6GB Disk):  78%|███████▊  | 23625/30448 [00:56<00:31, 216.87it/s]Caching images (65.7GB Disk):  78%|███████▊  | 23649/30448 [00:56<00:31, 217.97it/s]Caching images (65.9GB Disk):  78%|███████▊  | 23683/30448 [00:56<00:27, 247.87it/s]Caching images (66.1GB Disk):  78%|███████▊  | 23717/30448 [00:56<00:26, 258.12it/s]Caching images (66.2GB Disk):  78%|███████▊  | 23743/30448 [00:56<00:26, 254.39it/s]Caching images (66.4GB Disk):  78%|███████▊  | 23769/30448 [00:56<00:27, 244.74it/s]Caching images (66.5GB Disk):  78%|███████▊  | 23794/30448 [00:56<00:27, 238.43it/s]Caching images (66.7GB Disk):  78%|███████▊  | 23818/30448 [00:57<00:29, 227.75it/s]Caching images (66.8GB Disk):  78%|███████▊  | 23841/30448 [00:57<00:28, 228.20it/s]Caching images (67.0GB Disk):  78%|███████▊  | 23864/30448 [00:57<00:32, 205.72it/s]Caching images (67.1GB Disk):  78%|███████▊  | 23888/30448 [00:57<00:31, 210.97it/s]Caching images (67.2GB Disk):  79%|███████▊  | 23912/30448 [00:57<00:30, 215.27it/s]Caching images (67.4GB Disk):  79%|███████▊  | 23935/30448 [00:57<00:29, 218.34it/s]Caching images (67.5GB Disk):  79%|███████▊  | 23958/30448 [00:57<00:31, 206.81it/s]Caching images (67.7GB Disk):  79%|███████▉  | 23985/30448 [00:57<00:29, 220.89it/s]Caching images (67.9GB Disk):  79%|███████▉  | 24020/30448 [00:57<00:25, 249.87it/s]Caching images (68.0GB Disk):  79%|███████▉  | 24046/30448 [00:58<00:28, 225.58it/s]Caching images (68.1GB Disk):  79%|███████▉  | 24070/30448 [00:58<00:28, 224.01it/s]Caching images (68.3GB Disk):  79%|███████▉  | 24093/30448 [00:58<00:28, 223.64it/s]Caching images (68.4GB Disk):  79%|███████▉  | 24116/30448 [00:58<00:30, 209.24it/s]Caching images (68.5GB Disk):  79%|███████▉  | 24138/30448 [00:58<00:31, 199.68it/s]Caching images (68.7GB Disk):  79%|███████▉  | 24162/30448 [00:58<00:30, 209.21it/s]Caching images (68.8GB Disk):  79%|███████▉  | 24184/30448 [00:58<00:30, 206.73it/s]Caching images (68.9GB Disk):  80%|███████▉  | 24207/30448 [00:58<00:30, 205.18it/s]Caching images (69.1GB Disk):  80%|███████▉  | 24231/30448 [00:59<00:30, 200.95it/s]Caching images (69.2GB Disk):  80%|███████▉  | 24255/30448 [00:59<00:29, 210.38it/s]Caching images (69.4GB Disk):  80%|███████▉  | 24291/30448 [00:59<00:24, 249.67it/s]Caching images (69.6GB Disk):  80%|███████▉  | 24323/30448 [00:59<00:23, 260.45it/s]Caching images (69.8GB Disk):  80%|███████▉  | 24350/30448 [00:59<00:24, 251.18it/s]Caching images (69.9GB Disk):  80%|████████  | 24376/30448 [00:59<00:25, 241.75it/s]Caching images (70.1GB Disk):  80%|████████  | 24401/30448 [00:59<00:26, 232.23it/s]Caching images (70.2GB Disk):  80%|████████  | 24425/30448 [00:59<00:26, 229.67it/s]Caching images (70.3GB Disk):  80%|████████  | 24449/30448 [00:59<00:26, 223.52it/s]Caching images (70.5GB Disk):  80%|████████  | 24472/30448 [01:00<00:27, 219.68it/s]Caching images (70.6GB Disk):  80%|████████  | 24495/30448 [01:00<00:27, 214.33it/s]Caching images (70.7GB Disk):  81%|████████  | 24519/30448 [01:00<00:28, 206.86it/s]Caching images (70.9GB Disk):  81%|████████  | 24543/30448 [01:00<00:27, 213.87it/s]Caching images (71.0GB Disk):  81%|████████  | 24567/30448 [01:00<00:27, 214.51it/s]Caching images (71.2GB Disk):  81%|████████  | 24598/30448 [01:00<00:25, 231.50it/s]Caching images (71.4GB Disk):  81%|████████  | 24630/30448 [01:00<00:22, 255.04it/s]Caching images (71.5GB Disk):  81%|████████  | 24656/30448 [01:00<00:23, 242.06it/s]Caching images (71.7GB Disk):  81%|████████  | 24681/30448 [01:00<00:23, 240.33it/s]Caching images (71.8GB Disk):  81%|████████  | 24706/30448 [01:01<00:24, 232.12it/s]Caching images (72.0GB Disk):  81%|████████  | 24730/30448 [01:01<00:24, 231.86it/s]Caching images (72.1GB Disk):  81%|████████▏ | 24754/30448 [01:01<00:25, 222.29it/s]Caching images (72.2GB Disk):  81%|████████▏ | 24777/30448 [01:01<00:25, 222.06it/s]Caching images (72.4GB Disk):  81%|████████▏ | 24800/30448 [01:01<00:26, 216.07it/s]Caching images (72.5GB Disk):  82%|████████▏ | 24822/30448 [01:01<00:27, 204.04it/s]Caching images (72.6GB Disk):  82%|████████▏ | 24844/30448 [01:01<00:27, 205.46it/s]Caching images (72.8GB Disk):  82%|████████▏ | 24865/30448 [01:01<00:27, 200.00it/s]Caching images (72.9GB Disk):  82%|████████▏ | 24887/30448 [01:01<00:27, 204.54it/s]Caching images (73.1GB Disk):  82%|████████▏ | 24922/30448 [01:02<00:22, 241.25it/s]Caching images (73.3GB Disk):  82%|████████▏ | 24954/30448 [01:02<00:21, 251.66it/s]Caching images (73.4GB Disk):  82%|████████▏ | 24980/30448 [01:02<00:22, 244.01it/s]Caching images (73.6GB Disk):  82%|████████▏ | 25005/30448 [01:02<00:22, 240.77it/s]Caching images (73.7GB Disk):  82%|████████▏ | 25030/30448 [01:02<00:23, 234.82it/s]Caching images (73.8GB Disk):  82%|████████▏ | 25054/30448 [01:02<00:23, 226.20it/s]Caching images (74.0GB Disk):  82%|████████▏ | 25077/30448 [01:02<00:25, 211.78it/s]Caching images (74.1GB Disk):  82%|████████▏ | 25100/30448 [01:02<00:24, 215.39it/s]Caching images (74.2GB Disk):  83%|████████▎ | 25122/30448 [01:02<00:26, 203.00it/s]Caching images (74.4GB Disk):  83%|████████▎ | 25144/30448 [01:03<00:26, 198.00it/s]Caching images (74.5GB Disk):  83%|████████▎ | 25164/30448 [01:03<00:27, 193.86it/s]Caching images (74.6GB Disk):  83%|████████▎ | 25185/30448 [01:03<00:27, 192.68it/s]Caching images (74.7GB Disk):  83%|████████▎ | 25209/30448 [01:03<00:25, 201.74it/s]Caching images (74.9GB Disk):  83%|████████▎ | 25235/30448 [01:03<00:24, 217.08it/s]Caching images (75.0GB Disk):  83%|████████▎ | 25257/30448 [01:03<00:24, 215.46it/s]Caching images (75.1GB Disk):  83%|████████▎ | 25279/30448 [01:03<00:26, 194.11it/s]Caching images (75.3GB Disk):  83%|████████▎ | 25304/30448 [01:03<00:25, 201.44it/s]Caching images (75.4GB Disk):  83%|████████▎ | 25325/30448 [01:03<00:25, 199.30it/s]Caching images (75.5GB Disk):  83%|████████▎ | 25346/30448 [01:04<00:26, 195.44it/s]Caching images (75.7GB Disk):  83%|████████▎ | 25368/30448 [01:04<00:25, 200.21it/s]Caching images (75.8GB Disk):  83%|████████▎ | 25389/30448 [01:04<00:25, 197.11it/s]Caching images (75.9GB Disk):  83%|████████▎ | 25412/30448 [01:04<00:25, 201.07it/s]Caching images (76.0GB Disk):  84%|████████▎ | 25433/30448 [01:04<00:24, 202.99it/s]Caching images (76.1GB Disk):  84%|████████▎ | 25454/30448 [01:04<00:24, 204.92it/s]Caching images (76.3GB Disk):  84%|████████▎ | 25479/30448 [01:04<00:22, 217.12it/s]Caching images (76.4GB Disk):  84%|████████▍ | 25511/30448 [01:04<00:20, 245.32it/s]Caching images (76.6GB Disk):  84%|████████▍ | 25536/30448 [01:04<00:20, 236.59it/s]Caching images (76.7GB Disk):  84%|████████▍ | 25560/30448 [01:05<00:22, 221.51it/s]Caching images (76.9GB Disk):  84%|████████▍ | 25583/30448 [01:05<00:22, 219.99it/s]Caching images (77.0GB Disk):  84%|████████▍ | 25606/30448 [01:05<00:22, 213.80it/s]Caching images (77.1GB Disk):  84%|████████▍ | 25628/30448 [01:05<00:23, 206.20it/s]Caching images (77.2GB Disk):  84%|████████▍ | 25649/30448 [01:05<00:24, 198.34it/s]Caching images (77.4GB Disk):  84%|████████▍ | 25670/30448 [01:05<00:23, 200.69it/s]Caching images (77.5GB Disk):  84%|████████▍ | 25691/30448 [01:05<00:23, 199.39it/s]Caching images (77.6GB Disk):  84%|████████▍ | 25711/30448 [01:05<00:24, 195.26it/s]Caching images (77.7GB Disk):  85%|████████▍ | 25731/30448 [01:05<00:25, 188.36it/s]Caching images (77.8GB Disk):  85%|████████▍ | 25752/30448 [01:06<00:25, 181.36it/s]Caching images (78.0GB Disk):  85%|████████▍ | 25782/30448 [01:06<00:22, 206.63it/s]Caching images (78.1GB Disk):  85%|████████▍ | 25803/30448 [01:06<00:22, 202.01it/s]Caching images (78.3GB Disk):  85%|████████▍ | 25824/30448 [01:06<00:22, 201.07it/s]Caching images (78.4GB Disk):  85%|████████▍ | 25845/30448 [01:06<00:24, 187.07it/s]Caching images (78.5GB Disk):  85%|████████▍ | 25864/30448 [01:06<00:25, 182.64it/s]Caching images (78.6GB Disk):  85%|████████▌ | 25883/30448 [01:06<00:24, 183.54it/s]Caching images (78.7GB Disk):  85%|████████▌ | 25903/30448 [01:06<00:24, 184.22it/s]Caching images (78.8GB Disk):  85%|████████▌ | 25923/30448 [01:06<00:24, 181.61it/s]Caching images (78.9GB Disk):  85%|████████▌ | 25943/30448 [01:07<00:25, 178.15it/s]Caching images (79.1GB Disk):  85%|████████▌ | 25968/30448 [01:07<00:23, 192.64it/s]Caching images (79.2GB Disk):  85%|████████▌ | 25988/30448 [01:07<00:23, 189.80it/s]Caching images (79.3GB Disk):  85%|████████▌ | 26010/30448 [01:07<00:23, 189.90it/s]Caching images (79.5GB Disk):  86%|████████▌ | 26038/30448 [01:07<00:21, 209.95it/s]Caching images (79.6GB Disk):  86%|████████▌ | 26060/30448 [01:07<00:21, 200.14it/s]Caching images (79.7GB Disk):  86%|████████▌ | 26081/30448 [01:07<00:22, 196.76it/s]Caching images (79.9GB Disk):  86%|████████▌ | 26102/30448 [01:07<00:21, 199.11it/s]Caching images (80.0GB Disk):  86%|████████▌ | 26124/30448 [01:07<00:22, 195.56it/s]Caching images (80.1GB Disk):  86%|████████▌ | 26144/30448 [01:08<00:22, 194.74it/s]Caching images (80.2GB Disk):  86%|████████▌ | 26164/30448 [01:08<00:22, 189.99it/s]Caching images (80.3GB Disk):  86%|████████▌ | 26184/30448 [01:08<00:22, 190.52it/s]Caching images (80.5GB Disk):  86%|████████▌ | 26204/30448 [01:08<00:22, 191.41it/s]Caching images (80.6GB Disk):  86%|████████▌ | 26224/30448 [01:08<00:22, 184.32it/s]Caching images (80.7GB Disk):  86%|████████▌ | 26244/30448 [01:08<00:22, 187.48it/s]Caching images (80.8GB Disk):  86%|████████▋ | 26263/30448 [01:08<00:22, 184.52it/s]Caching images (81.0GB Disk):  86%|████████▋ | 26296/30448 [01:08<00:19, 215.60it/s]Caching images (81.1GB Disk):  86%|████████▋ | 26322/30448 [01:08<00:18, 221.30it/s]Caching images (81.3GB Disk):  87%|████████▋ | 26345/30448 [01:09<00:19, 213.43it/s]Caching images (81.4GB Disk):  87%|████████▋ | 26367/30448 [01:09<00:19, 212.34it/s]Caching images (81.5GB Disk):  87%|████████▋ | 26389/30448 [01:09<00:20, 193.38it/s]Caching images (81.6GB Disk):  87%|████████▋ | 26410/30448 [01:09<00:20, 196.99it/s]Caching images (81.8GB Disk):  87%|████████▋ | 26430/30448 [01:09<00:20, 194.35it/s]Caching images (81.9GB Disk):  87%|████████▋ | 26450/30448 [01:09<00:22, 179.91it/s]Caching images (82.0GB Disk):  87%|████████▋ | 26469/30448 [01:09<00:22, 179.23it/s]Caching images (82.1GB Disk):  87%|████████▋ | 26489/30448 [01:09<00:21, 183.78it/s]Caching images (82.2GB Disk):  87%|████████▋ | 26509/30448 [01:09<00:21, 186.48it/s]Caching images (82.3GB Disk):  87%|████████▋ | 26528/30448 [01:10<00:21, 185.88it/s]Caching images (82.4GB Disk):  87%|████████▋ | 26547/30448 [01:10<00:21, 180.81it/s]Caching images (82.6GB Disk):  87%|████████▋ | 26566/30448 [01:10<00:21, 179.11it/s]Caching images (82.7GB Disk):  87%|████████▋ | 26585/30448 [01:10<00:21, 180.60it/s]Caching images (82.8GB Disk):  87%|████████▋ | 26605/30448 [01:10<00:20, 184.63it/s]Caching images (82.9GB Disk):  87%|████████▋ | 26625/30448 [01:10<00:21, 181.20it/s]Caching images (83.0GB Disk):  88%|████████▊ | 26644/30448 [01:10<00:20, 182.36it/s]Caching images (83.1GB Disk):  88%|████████▊ | 26665/30448 [01:10<00:20, 183.43it/s]Caching images (83.2GB Disk):  88%|████████▊ | 26684/30448 [01:10<00:20, 181.02it/s]Caching images (83.3GB Disk):  88%|████████▊ | 26703/30448 [01:11<00:21, 176.73it/s]Caching images (83.5GB Disk):  88%|████████▊ | 26721/30448 [01:11<00:21, 169.72it/s]Caching images (83.6GB Disk):  88%|████████▊ | 26741/30448 [01:11<00:21, 172.81it/s]Caching images (83.7GB Disk):  88%|████████▊ | 26763/30448 [01:11<00:20, 182.13it/s]Caching images (83.8GB Disk):  88%|████████▊ | 26782/30448 [01:11<00:20, 177.19it/s]Caching images (84.0GB Disk):  88%|████████▊ | 26817/30448 [01:11<00:16, 224.29it/s]Caching images (84.2GB Disk):  88%|████████▊ | 26842/30448 [01:11<00:16, 221.92it/s]Caching images (84.3GB Disk):  88%|████████▊ | 26865/30448 [01:11<00:17, 205.52it/s]Caching images (84.4GB Disk):  88%|████████▊ | 26886/30448 [01:11<00:18, 193.62it/s]Caching images (84.5GB Disk):  88%|████████▊ | 26906/30448 [01:12<00:37, 95.44it/s] Caching images (84.6GB Disk):  88%|████████▊ | 26922/30448 [01:12<00:33, 105.46it/s]Caching images (84.7GB Disk):  88%|████████▊ | 26944/30448 [01:12<00:28, 124.62it/s]Caching images (84.9GB Disk):  89%|████████▊ | 26969/30448 [01:12<00:23, 145.74it/s]Caching images (85.0GB Disk):  89%|████████▊ | 26995/30448 [01:12<00:20, 170.41it/s]Caching images (85.2GB Disk):  89%|████████▊ | 27021/30448 [01:12<00:18, 186.02it/s]Caching images (85.4GB Disk):  89%|████████▉ | 27049/30448 [01:13<00:17, 199.43it/s]Caching images (85.5GB Disk):  89%|████████▉ | 27073/30448 [01:13<00:16, 205.72it/s]Caching images (85.6GB Disk):  89%|████████▉ | 27096/30448 [01:13<00:15, 211.63it/s]Caching images (85.8GB Disk):  89%|████████▉ | 27123/30448 [01:13<00:14, 223.75it/s]Caching images (85.9GB Disk):  89%|████████▉ | 27150/30448 [01:13<00:14, 234.59it/s]Caching images (86.1GB Disk):  89%|████████▉ | 27176/30448 [01:13<00:14, 232.57it/s]Caching images (86.2GB Disk):  89%|████████▉ | 27200/30448 [01:13<00:13, 232.18it/s]Caching images (86.4GB Disk):  89%|████████▉ | 27224/30448 [01:13<00:15, 214.48it/s]Caching images (86.5GB Disk):  89%|████████▉ | 27248/30448 [01:13<00:14, 217.64it/s]Caching images (86.6GB Disk):  90%|████████▉ | 27272/30448 [01:14<00:14, 220.77it/s]Caching images (86.8GB Disk):  90%|████████▉ | 27299/30448 [01:14<00:13, 227.80it/s]Caching images (86.9GB Disk):  90%|████████▉ | 27325/30448 [01:14<00:13, 227.88it/s]Caching images (87.1GB Disk):  90%|████████▉ | 27348/30448 [01:14<00:15, 202.44it/s]Caching images (87.2GB Disk):  90%|████████▉ | 27369/30448 [01:14<00:16, 191.29it/s]Caching images (87.3GB Disk):  90%|████████▉ | 27390/30448 [01:14<00:15, 192.03it/s]Caching images (87.4GB Disk):  90%|█████████ | 27410/30448 [01:14<00:16, 184.21it/s]Caching images (87.6GB Disk):  90%|█████████ | 27430/30448 [01:14<00:16, 186.05it/s]Caching images (87.7GB Disk):  90%|█████████ | 27449/30448 [01:15<00:16, 181.83it/s]Caching images (87.8GB Disk):  90%|█████████ | 27468/30448 [01:15<00:17, 171.92it/s]Caching images (87.9GB Disk):  90%|█████████ | 27487/30448 [01:15<00:17, 171.23it/s]Caching images (88.0GB Disk):  90%|█████████ | 27506/30448 [01:15<00:16, 174.20it/s]Caching images (88.1GB Disk):  90%|█████████ | 27524/30448 [01:15<00:17, 170.71it/s]Caching images (88.2GB Disk):  90%|█████████ | 27543/30448 [01:15<00:16, 175.77it/s]Caching images (88.3GB Disk):  91%|█████████ | 27562/30448 [01:15<00:16, 177.18it/s]Caching images (88.4GB Disk):  91%|█████████ | 27582/30448 [01:15<00:15, 183.63it/s]Caching images (88.5GB Disk):  91%|█████████ | 27601/30448 [01:15<00:17, 163.91it/s]Caching images (88.6GB Disk):  91%|█████████ | 27626/30448 [01:16<00:15, 186.14it/s]Caching images (88.7GB Disk):  91%|█████████ | 27646/30448 [01:16<00:16, 171.46it/s]Caching images (88.8GB Disk):  91%|█████████ | 27664/30448 [01:16<00:19, 141.65it/s]Caching images (88.9GB Disk):  91%|█████████ | 27680/30448 [01:16<00:21, 128.88it/s]Caching images (89.0GB Disk):  91%|█████████ | 27697/30448 [01:16<00:20, 135.83it/s]Caching images (89.1GB Disk):  91%|█████████ | 27715/30448 [01:16<00:19, 143.75it/s]Caching images (89.2GB Disk):  91%|█████████ | 27731/30448 [01:16<00:21, 123.79it/s]Caching images (89.3GB Disk):  91%|█████████ | 27750/30448 [01:17<00:20, 131.38it/s]Caching images (89.5GB Disk):  91%|█████████ | 27769/30448 [01:17<00:18, 144.21it/s]Caching images (89.6GB Disk):  91%|█████████▏| 27789/30448 [01:17<00:16, 157.29it/s]Caching images (89.7GB Disk):  91%|█████████▏| 27806/30448 [01:17<00:38, 68.11it/s] Caching images (89.7GB Disk):  91%|█████████▏| 27819/30448 [01:18<00:38, 68.74it/s]Caching images (89.8GB Disk):  91%|█████████▏| 27836/30448 [01:18<00:31, 83.12it/s]Caching images (89.9GB Disk):  91%|█████████▏| 27854/30448 [01:18<00:26, 97.81it/s]Caching images (90.1GB Disk):  92%|█████████▏| 27876/30448 [01:18<00:21, 119.19it/s]Caching images (90.2GB Disk):  92%|█████████▏| 27893/30448 [01:18<00:19, 129.07it/s]Caching images (90.3GB Disk):  92%|█████████▏| 27910/30448 [01:18<00:18, 137.28it/s]Caching images (90.4GB Disk):  92%|█████████▏| 27930/30448 [01:18<00:16, 152.08it/s]Caching images (90.5GB Disk):  92%|█████████▏| 27952/30448 [01:18<00:15, 165.29it/s]Caching images (90.6GB Disk):  92%|█████████▏| 27973/30448 [01:18<00:13, 177.06it/s]Caching images (90.8GB Disk):  92%|█████████▏| 27995/30448 [01:18<00:13, 187.66it/s]Caching images (90.9GB Disk):  92%|█████████▏| 28015/30448 [01:19<00:13, 176.27it/s]Caching images (91.0GB Disk):  92%|█████████▏| 28035/30448 [01:19<00:13, 182.05it/s]Caching images (91.1GB Disk):  92%|█████████▏| 28055/30448 [01:19<00:12, 184.85it/s]Caching images (91.2GB Disk):  92%|█████████▏| 28075/30448 [01:19<00:12, 188.46it/s]Caching images (91.4GB Disk):  92%|█████████▏| 28097/30448 [01:19<00:12, 192.72it/s]Caching images (91.5GB Disk):  92%|█████████▏| 28117/30448 [01:19<00:12, 191.01it/s]Caching images (91.6GB Disk):  92%|█████████▏| 28138/30448 [01:19<00:12, 191.00it/s]Caching images (91.7GB Disk):  92%|█████████▏| 28158/30448 [01:19<00:12, 181.35it/s]Caching images (91.8GB Disk):  93%|█████████▎| 28177/30448 [01:19<00:13, 171.28it/s]Caching images (91.9GB Disk):  93%|█████████▎| 28195/30448 [01:20<00:13, 171.41it/s]Caching images (92.0GB Disk):  93%|█████████▎| 28213/30448 [01:20<00:14, 155.96it/s]Caching images (92.1GB Disk):  93%|█████████▎| 28229/30448 [01:20<00:15, 147.10it/s]Caching images (92.2GB Disk):  93%|█████████▎| 28247/30448 [01:20<00:14, 148.76it/s]Caching images (92.3GB Disk):  93%|█████████▎| 28268/30448 [01:20<00:13, 158.99it/s]Caching images (92.4GB Disk):  93%|█████████▎| 28286/30448 [01:20<00:13, 163.23it/s]Caching images (92.6GB Disk):  93%|█████████▎| 28305/30448 [01:20<00:12, 168.96it/s]Caching images (92.7GB Disk):  93%|█████████▎| 28323/30448 [01:20<00:13, 157.81it/s]Caching images (92.8GB Disk):  93%|█████████▎| 28340/30448 [01:21<00:14, 142.04it/s]Caching images (92.9GB Disk):  93%|█████████▎| 28361/30448 [01:21<00:13, 152.36it/s]Caching images (93.0GB Disk):  93%|█████████▎| 28377/30448 [01:21<00:13, 152.00it/s]Caching images (93.1GB Disk):  93%|█████████▎| 28394/30448 [01:21<00:13, 150.65it/s]Caching images (93.2GB Disk):  93%|█████████▎| 28410/30448 [01:21<00:13, 145.62it/s]Caching images (93.3GB Disk):  93%|█████████▎| 28427/30448 [01:21<00:13, 147.79it/s]Caching images (93.3GB Disk):  93%|█████████▎| 28442/30448 [01:21<00:14, 142.06it/s]Caching images (93.4GB Disk):  93%|█████████▎| 28458/30448 [01:21<00:13, 146.41it/s]Caching images (93.5GB Disk):  94%|█████████▎| 28473/30448 [01:21<00:13, 145.81it/s]Caching images (93.6GB Disk):  94%|█████████▎| 28488/30448 [01:22<00:14, 138.64it/s]Caching images (93.7GB Disk):  94%|█████████▎| 28502/30448 [01:22<00:16, 117.14it/s]Caching images (93.8GB Disk):  94%|█████████▎| 28517/30448 [01:22<00:16, 114.82it/s]Caching images (93.9GB Disk):  94%|█████████▎| 28535/30448 [01:22<00:15, 126.42it/s]Caching images (94.0GB Disk):  94%|█████████▍| 28556/30448 [01:22<00:13, 140.78it/s]Caching images (94.1GB Disk):  94%|█████████▍| 28573/30448 [01:22<00:12, 148.14it/s]Caching images (94.2GB Disk):  94%|█████████▍| 28589/30448 [01:22<00:12, 146.27it/s]Caching images (94.3GB Disk):  94%|█████████▍| 28604/30448 [01:23<00:29, 61.86it/s] Caching images (94.4GB Disk):  94%|█████████▍| 28624/30448 [01:23<00:22, 80.53it/s]Caching images (94.5GB Disk):  94%|█████████▍| 28649/30448 [01:23<00:17, 104.90it/s]Caching images (94.7GB Disk):  94%|█████████▍| 28668/30448 [01:23<00:14, 120.67it/s]Caching images (94.8GB Disk):  94%|█████████▍| 28688/30448 [01:23<00:12, 137.14it/s]Caching images (94.9GB Disk):  94%|█████████▍| 28708/30448 [01:23<00:11, 151.48it/s]Caching images (95.0GB Disk):  94%|█████████▍| 28730/30448 [01:24<00:10, 164.10it/s]Caching images (95.1GB Disk):  94%|█████████▍| 28749/30448 [01:24<00:10, 161.98it/s]Caching images (95.3GB Disk):  94%|█████████▍| 28771/30448 [01:24<00:09, 172.51it/s]Caching images (95.4GB Disk):  95%|█████████▍| 28793/30448 [01:24<00:09, 181.21it/s]Caching images (95.5GB Disk):  95%|█████████▍| 28813/30448 [01:24<00:08, 185.96it/s]Caching images (95.6GB Disk):  95%|█████████▍| 28833/30448 [01:24<00:09, 171.22it/s]Caching images (95.7GB Disk):  95%|█████████▍| 28851/30448 [01:24<00:09, 166.85it/s]Caching images (95.8GB Disk):  95%|█████████▍| 28869/30448 [01:24<00:10, 153.80it/s]Caching images (95.9GB Disk):  95%|█████████▍| 28885/30448 [01:25<00:10, 144.12it/s]Caching images (96.0GB Disk):  95%|█████████▍| 28900/30448 [01:25<00:10, 144.09it/s]Caching images (96.1GB Disk):  95%|█████████▍| 28919/30448 [01:25<00:09, 154.80it/s]Caching images (96.2GB Disk):  95%|█████████▌| 28935/30448 [01:25<00:10, 140.07it/s]Caching images (96.3GB Disk):  95%|█████████▌| 28953/30448 [01:25<00:10, 144.51it/s]Caching images (96.4GB Disk):  95%|█████████▌| 28968/30448 [01:25<00:10, 145.43it/s]Caching images (96.5GB Disk):  95%|█████████▌| 28983/30448 [01:25<00:10, 135.85it/s]Caching images (96.6GB Disk):  95%|█████████▌| 28999/30448 [01:25<00:10, 136.70it/s]Caching images (96.7GB Disk):  95%|█████████▌| 29013/30448 [01:26<00:12, 111.42it/s]Caching images (96.8GB Disk):  95%|█████████▌| 29030/30448 [01:26<00:11, 119.66it/s]Caching images (96.9GB Disk):  95%|█████████▌| 29048/30448 [01:26<00:10, 132.32it/s]Caching images (96.9GB Disk):  95%|█████████▌| 29063/30448 [01:26<00:10, 135.66it/s]Caching images (97.0GB Disk):  96%|█████████▌| 29078/30448 [01:26<00:10, 133.91it/s]Caching images (97.1GB Disk):  96%|█████████▌| 29096/30448 [01:26<00:09, 145.41it/s]Caching images (97.2GB Disk):  96%|█████████▌| 29111/30448 [01:26<00:09, 139.61it/s]Caching images (97.3GB Disk):  96%|█████████▌| 29126/30448 [01:26<00:09, 137.09it/s]Caching images (97.4GB Disk):  96%|█████████▌| 29143/30448 [01:26<00:08, 145.90it/s]Caching images (97.5GB Disk):  96%|█████████▌| 29159/30448 [01:27<00:09, 140.63it/s]Caching images (97.6GB Disk):  96%|█████████▌| 29179/30448 [01:27<00:08, 155.98it/s]Caching images (97.7GB Disk):  96%|█████████▌| 29198/30448 [01:27<00:08, 152.47it/s]Caching images (97.8GB Disk):  96%|█████████▌| 29215/30448 [01:27<00:07, 154.69it/s]Caching images (97.9GB Disk):  96%|█████████▌| 29231/30448 [01:27<00:08, 149.03it/s]Caching images (98.0GB Disk):  96%|█████████▌| 29248/30448 [01:27<00:07, 151.70it/s]Caching images (98.1GB Disk):  96%|█████████▌| 29269/30448 [01:27<00:07, 163.85it/s]Caching images (98.2GB Disk):  96%|█████████▌| 29286/30448 [01:27<00:07, 161.97it/s]Caching images (98.3GB Disk):  96%|█████████▌| 29303/30448 [01:27<00:07, 158.39it/s]Caching images (98.4GB Disk):  96%|█████████▋| 29322/30448 [01:28<00:06, 162.68it/s]Caching images (98.5GB Disk):  96%|█████████▋| 29339/30448 [01:28<00:06, 163.07it/s]Caching images (98.6GB Disk):  96%|█████████▋| 29356/30448 [01:28<00:06, 162.21it/s]Caching images (98.7GB Disk):  96%|█████████▋| 29373/30448 [01:28<00:06, 162.23it/s]Caching images (98.8GB Disk):  97%|█████████▋| 29390/30448 [01:28<00:06, 155.27it/s]Caching images (98.9GB Disk):  97%|█████████▋| 29406/30448 [01:28<00:13, 79.22it/s] Caching images (99.0GB Disk):  97%|█████████▋| 29422/30448 [01:29<00:12, 84.00it/s]Caching images (99.2GB Disk):  97%|█████████▋| 29445/30448 [01:29<00:09, 106.78it/s]Caching images (99.3GB Disk):  97%|█████████▋| 29466/30448 [01:29<00:07, 126.88it/s]Caching images (99.4GB Disk):  97%|█████████▋| 29487/30448 [01:29<00:06, 137.89it/s]Caching images (99.5GB Disk):  97%|█████████▋| 29507/30448 [01:29<00:06, 151.93it/s]Caching images (99.6GB Disk):  97%|█████████▋| 29526/30448 [01:29<00:05, 159.67it/s]Caching images (99.7GB Disk):  97%|█████████▋| 29544/30448 [01:29<00:05, 157.67it/s]Caching images (99.9GB Disk):  97%|█████████▋| 29568/30448 [01:29<00:05, 173.91it/s]Caching images (100.0GB Disk):  97%|█████████▋| 29589/30448 [01:30<00:04, 175.72it/s]Caching images (100.1GB Disk):  97%|█████████▋| 29608/30448 [01:30<00:04, 178.57it/s]Caching images (100.2GB Disk):  97%|█████████▋| 29627/30448 [01:30<00:04, 173.32it/s]Caching images (100.3GB Disk):  97%|█████████▋| 29645/30448 [01:30<00:04, 161.20it/s]Caching images (100.4GB Disk):  97%|█████████▋| 29662/30448 [01:30<00:04, 159.91it/s]Caching images (100.5GB Disk):  97%|█████████▋| 29681/30448 [01:30<00:04, 160.13it/s]Caching images (100.6GB Disk):  98%|█████████▊| 29698/30448 [01:30<00:04, 156.84it/s]Caching images (100.7GB Disk):  98%|█████████▊| 29714/30448 [01:30<00:04, 156.80it/s]Caching images (100.8GB Disk):  98%|█████████▊| 29730/30448 [01:30<00:04, 147.68it/s]Caching images (100.9GB Disk):  98%|█████████▊| 29752/30448 [01:31<00:04, 157.48it/s]Caching images (101.0GB Disk):  98%|█████████▊| 29769/30448 [01:31<00:04, 159.25it/s]Caching images (101.1GB Disk):  98%|█████████▊| 29786/30448 [01:31<00:04, 155.39it/s]Caching images (101.2GB Disk):  98%|█████████▊| 29803/30448 [01:31<00:04, 153.59it/s]Caching images (101.3GB Disk):  98%|█████████▊| 29819/30448 [01:31<00:04, 153.50it/s]Caching images (101.4GB Disk):  98%|█████████▊| 29835/30448 [01:31<00:04, 148.37it/s]Caching images (101.5GB Disk):  98%|█████████▊| 29850/30448 [01:31<00:04, 139.25it/s]Caching images (101.6GB Disk):  98%|█████████▊| 29865/30448 [01:31<00:04, 128.52it/s]Caching images (101.7GB Disk):  98%|█████████▊| 29879/30448 [01:32<00:04, 118.19it/s]Caching images (101.8GB Disk):  98%|█████████▊| 29892/30448 [01:32<00:04, 112.49it/s]Caching images (101.8GB Disk):  98%|█████████▊| 29904/30448 [01:32<00:05, 108.06it/s]Caching images (101.9GB Disk):  98%|█████████▊| 29918/30448 [01:32<00:04, 111.73it/s]Caching images (102.0GB Disk):  98%|█████████▊| 29930/30448 [01:32<00:04, 107.98it/s]Caching images (102.0GB Disk):  98%|█████████▊| 29941/30448 [01:32<00:05, 92.47it/s] Caching images (102.1GB Disk):  98%|█████████▊| 29951/30448 [01:32<00:05, 85.32it/s]Caching images (102.1GB Disk):  98%|█████████▊| 29960/30448 [01:33<00:06, 71.70it/s]Caching images (102.2GB Disk):  98%|█████████▊| 29976/30448 [01:33<00:05, 87.00it/s]Caching images (102.3GB Disk):  99%|█████████▊| 29993/30448 [01:33<00:04, 104.73it/s]Caching images (102.4GB Disk):  99%|█████████▊| 30009/30448 [01:33<00:03, 116.25it/s]Caching images (102.5GB Disk):  99%|█████████▊| 30022/30448 [01:33<00:03, 119.46it/s]Caching images (102.6GB Disk):  99%|█████████▊| 30038/30448 [01:33<00:03, 125.22it/s]Caching images (102.6GB Disk):  99%|█████████▊| 30053/30448 [01:33<00:03, 128.51it/s]Caching images (102.7GB Disk):  99%|█████████▊| 30067/30448 [01:33<00:02, 131.48it/s]Caching images (102.7GB Disk):  99%|█████████▉| 30081/30448 [01:33<00:02, 130.07it/s]Caching images (102.7GB Disk):  99%|█████████▉| 30100/30448 [01:33<00:02, 145.89it/s]Caching images (102.7GB Disk):  99%|█████████▉| 30122/30448 [01:34<00:01, 165.33it/s]Caching images (102.7GB Disk):  99%|█████████▉| 30141/30448 [01:34<00:03, 86.55it/s] Caching images (102.8GB Disk):  99%|█████████▉| 30162/30448 [01:34<00:02, 105.97it/s]Caching images (102.8GB Disk):  99%|█████████▉| 30180/30448 [01:34<00:02, 118.14it/s]Caching images (102.8GB Disk):  99%|█████████▉| 30197/30448 [01:34<00:02, 121.01it/s]Caching images (102.8GB Disk):  99%|█████████▉| 30223/30448 [01:35<00:01, 140.62it/s]Caching images (102.8GB Disk):  99%|█████████▉| 30241/30448 [01:35<00:01, 145.91it/s]Caching images (102.9GB Disk):  99%|█████████▉| 30265/30448 [01:35<00:01, 165.23it/s]Caching images (102.9GB Disk):  99%|█████████▉| 30283/30448 [01:35<00:01, 152.01it/s]Caching images (102.9GB Disk): 100%|█████████▉| 30300/30448 [01:35<00:00, 151.35it/s]Caching images (102.9GB Disk): 100%|█████████▉| 30316/30448 [01:35<00:00, 144.16it/s]Caching images (102.9GB Disk): 100%|█████████▉| 30332/30448 [01:35<00:00, 144.88it/s]Caching images (102.9GB Disk): 100%|█████████▉| 30351/30448 [01:35<00:00, 147.77it/s]Caching images (103.0GB Disk): 100%|█████████▉| 30367/30448 [01:35<00:00, 141.03it/s]Caching images (103.0GB Disk): 100%|█████████▉| 30382/30448 [01:36<00:00, 117.21it/s]Caching images (103.0GB Disk): 100%|█████████▉| 30395/30448 [01:36<00:00, 119.54it/s]Caching images (103.0GB Disk): 100%|█████████▉| 30413/30448 [01:36<00:00, 134.34it/s]Caching images (103.0GB Disk): 100%|█████████▉| 30434/30448 [01:36<00:00, 153.97it/s]Caching images (103.0GB Disk): 100%|██████████| 30448/30448 [01:36<00:00, 315.46it/s]\n",
      "val: Scanning C:\\Users\\Sai\\Documents\\Neu\\Masters_Project\\PerceptionPrivacy\\datasets\\yolo_lp_screen_id\\labels\\val.cache... 7613 images, 0 backgrounds, 0 corrupt: 100%|██████████| 7613/7613 [00:00<?, ?it/s]Scanning C:\\Users\\Sai\\Documents\\Neu\\Masters_Project\\PerceptionPrivacy\\datasets\\yolo_lp_screen_id\\labels\\val.cache... 7613 images, 0 backgrounds, 0 corrupt: 100%|██████████| 7613/7613 [00:00<?, ?it/s]\n",
      "val:           | 0/7613 [00:00<?, ?it/s]Caching images (0.6GB Disk):   8%|▊         | 634/7613 [00:00<00:01, 6280.48it/s]Caching images (1.3GB Disk):  17%|█▋        | 1263/7613 [00:00<00:01, 6265.68it/s]Caching images (6.1GB Disk):  47%|████▋     | 3561/7613 [00:00<00:00, 13814.00it/s]Caching images (17.4GB Disk):  81%|████████  | 6168/7613 [00:00<00:00, 18556.58it/s]Caching images (25.8GB Disk): 100%|██████████| 7613/7613 [00:00<00:00, 16544.12it/s]\n"
     ]
    },
    {
     "name": "stdout",
     "output_type": "stream",
     "text": [
      "Plotting labels to privacy-segmentation\\yolov8n-adam-flip-640-3e4-mosaic-b16-gray-2\\labels.jpg... \n",
      "\u001b[34m\u001b[1moptimizer:\u001b[0m Adam(lr=0.0003, momentum=0.937) with parameter groups 66 weight(decay=0.0), 77 weight(decay=0.0005), 76 bias(decay=0.0)\n",
      "\u001b[34m\u001b[1mTensorBoard: \u001b[0mmodel graph visualization added \n",
      "Image sizes 640 train, 640 val\n",
      "Using 8 dataloader workers\n",
      "Logging results to \u001b[1mprivacy-segmentation\\yolov8n-adam-flip-640-3e4-mosaic-b16-gray-2\u001b[0m\n",
      "Starting training for 75 epochs...\n",
      "\n",
      "      Epoch    GPU_mem   box_loss   seg_loss   cls_loss   dfl_loss  Instances       Size\n"
     ]
    },
    {
     "name": "stderr",
     "output_type": "stream",
     "text": [
      "       1/75      6.12G     0.3929     0.8923     0.3615     0.8767         49        896: 100%|██████████| 1903/1903 [07:34<00:00,  4.19it/s]\n",
      "                 Class     Images  Instances      Box(P          R      mAP50  mAP50-95)     Mask(P          R      mAP50  mAP50-95): 100%|██████████| 238/238 [01:13<00:00,  3.23it/s]\n"
     ]
    },
    {
     "name": "stdout",
     "output_type": "stream",
     "text": [
      "                   all       7613      11797      0.973      0.772      0.788       0.76      0.972      0.772      0.787      0.688\n",
      "\n",
      "      Epoch    GPU_mem   box_loss   seg_loss   cls_loss   dfl_loss  Instances       Size\n"
     ]
    },
    {
     "name": "stderr",
     "output_type": "stream",
     "text": [
      "       2/75      7.04G     0.3741     0.8256     0.3202     0.8705         30        736: 100%|██████████| 1903/1903 [07:50<00:00,  4.04it/s]\n",
      "                 Class     Images  Instances      Box(P          R      mAP50  mAP50-95)     Mask(P          R      mAP50  mAP50-95): 100%|██████████| 238/238 [01:11<00:00,  3.34it/s]\n"
     ]
    },
    {
     "name": "stdout",
     "output_type": "stream",
     "text": [
      "                   all       7613      11797      0.977      0.777      0.789      0.768      0.976      0.777      0.787      0.701\n",
      "\n",
      "      Epoch    GPU_mem   box_loss   seg_loss   cls_loss   dfl_loss  Instances       Size\n"
     ]
    },
    {
     "name": "stderr",
     "output_type": "stream",
     "text": [
      "       3/75      7.04G     0.3686     0.8081     0.3137      0.868         39        832: 100%|██████████| 1903/1903 [07:37<00:00,  4.16it/s]\n",
      "                 Class     Images  Instances      Box(P          R      mAP50  mAP50-95)     Mask(P          R      mAP50  mAP50-95): 100%|██████████| 238/238 [01:11<00:00,  3.34it/s]\n"
     ]
    },
    {
     "name": "stdout",
     "output_type": "stream",
     "text": [
      "                   all       7613      11797      0.979      0.776       0.79      0.767      0.981      0.776      0.789      0.691\n",
      "\n",
      "      Epoch    GPU_mem   box_loss   seg_loss   cls_loss   dfl_loss  Instances       Size\n"
     ]
    },
    {
     "name": "stderr",
     "output_type": "stream",
     "text": [
      "       4/75      7.04G     0.3681     0.8061     0.3127     0.8705         34        576: 100%|██████████| 1903/1903 [07:08<00:00,  4.45it/s]\n",
      "                 Class     Images  Instances      Box(P          R      mAP50  mAP50-95)     Mask(P          R      mAP50  mAP50-95): 100%|██████████| 238/238 [01:03<00:00,  3.75it/s]\n"
     ]
    },
    {
     "name": "stdout",
     "output_type": "stream",
     "text": [
      "                   all       7613      11797      0.981      0.777      0.787      0.766       0.98      0.777      0.787      0.694\n",
      "\n",
      "      Epoch    GPU_mem   box_loss   seg_loss   cls_loss   dfl_loss  Instances       Size\n"
     ]
    },
    {
     "name": "stderr",
     "output_type": "stream",
     "text": [
      "       5/75      7.04G     0.3654     0.8004       0.31     0.8706         45        672: 100%|██████████| 1903/1903 [06:35<00:00,  4.81it/s]\n",
      "                 Class     Images  Instances      Box(P          R      mAP50  mAP50-95)     Mask(P          R      mAP50  mAP50-95): 100%|██████████| 238/238 [01:03<00:00,  3.77it/s]\n"
     ]
    },
    {
     "name": "stdout",
     "output_type": "stream",
     "text": [
      "                   all       7613      11797      0.978      0.778       0.79      0.769      0.979      0.778      0.789      0.697\n",
      "\n",
      "      Epoch    GPU_mem   box_loss   seg_loss   cls_loss   dfl_loss  Instances       Size\n"
     ]
    },
    {
     "name": "stderr",
     "output_type": "stream",
     "text": [
      "       6/75      7.04G      0.365     0.8013     0.3077     0.8688         52        608: 100%|██████████| 1903/1903 [06:32<00:00,  4.85it/s]\n",
      "                 Class     Images  Instances      Box(P          R      mAP50  mAP50-95)     Mask(P          R      mAP50  mAP50-95): 100%|██████████| 238/238 [01:03<00:00,  3.75it/s]\n"
     ]
    },
    {
     "name": "stdout",
     "output_type": "stream",
     "text": [
      "                   all       7613      11797      0.981      0.778       0.79       0.77      0.981      0.777       0.79      0.698\n",
      "\n",
      "      Epoch    GPU_mem   box_loss   seg_loss   cls_loss   dfl_loss  Instances       Size\n"
     ]
    },
    {
     "name": "stderr",
     "output_type": "stream",
     "text": [
      "       7/75      7.04G     0.3613     0.7886     0.3058     0.8676         81        832: 100%|██████████| 1903/1903 [06:34<00:00,  4.83it/s]\n",
      "                 Class     Images  Instances      Box(P          R      mAP50  mAP50-95)     Mask(P          R      mAP50  mAP50-95): 100%|██████████| 238/238 [01:03<00:00,  3.78it/s]\n"
     ]
    },
    {
     "name": "stdout",
     "output_type": "stream",
     "text": [
      "                   all       7613      11797      0.979      0.778      0.789      0.768      0.975      0.778      0.788      0.694\n",
      "\n",
      "      Epoch    GPU_mem   box_loss   seg_loss   cls_loss   dfl_loss  Instances       Size\n"
     ]
    },
    {
     "name": "stderr",
     "output_type": "stream",
     "text": [
      "       8/75      7.04G     0.3564     0.7827     0.2992     0.8681         36        512: 100%|██████████| 1903/1903 [06:38<00:00,  4.77it/s]\n",
      "                 Class     Images  Instances      Box(P          R      mAP50  mAP50-95)     Mask(P          R      mAP50  mAP50-95): 100%|██████████| 238/238 [01:03<00:00,  3.76it/s]\n"
     ]
    },
    {
     "name": "stdout",
     "output_type": "stream",
     "text": [
      "                   all       7613      11797       0.98       0.78       0.79      0.771      0.979      0.779      0.789      0.699\n",
      "\n",
      "      Epoch    GPU_mem   box_loss   seg_loss   cls_loss   dfl_loss  Instances       Size\n"
     ]
    },
    {
     "name": "stderr",
     "output_type": "stream",
     "text": [
      "       9/75      7.04G     0.3601     0.7971     0.3013     0.8686         40        576: 100%|██████████| 1903/1903 [06:30<00:00,  4.87it/s]\n",
      "                 Class     Images  Instances      Box(P          R      mAP50  mAP50-95)     Mask(P          R      mAP50  mAP50-95): 100%|██████████| 238/238 [01:02<00:00,  3.80it/s]\n"
     ]
    },
    {
     "name": "stdout",
     "output_type": "stream",
     "text": [
      "                   all       7613      11797      0.979       0.78      0.791      0.771       0.98      0.779       0.79      0.698\n",
      "\n",
      "      Epoch    GPU_mem   box_loss   seg_loss   cls_loss   dfl_loss  Instances       Size\n"
     ]
    },
    {
     "name": "stderr",
     "output_type": "stream",
     "text": [
      "      10/75      7.04G     0.3542     0.7839     0.2935     0.8647         24        352: 100%|██████████| 1903/1903 [06:30<00:00,  4.87it/s]\n",
      "                 Class     Images  Instances      Box(P          R      mAP50  mAP50-95)     Mask(P          R      mAP50  mAP50-95): 100%|██████████| 238/238 [01:02<00:00,  3.79it/s]\n"
     ]
    },
    {
     "name": "stdout",
     "output_type": "stream",
     "text": [
      "                   all       7613      11797      0.984      0.779      0.789      0.771      0.984      0.779      0.789      0.699\n",
      "\n",
      "      Epoch    GPU_mem   box_loss   seg_loss   cls_loss   dfl_loss  Instances       Size\n"
     ]
    },
    {
     "name": "stderr",
     "output_type": "stream",
     "text": [
      "      11/75      7.04G     0.3537     0.7834     0.2941     0.8647         37        480: 100%|██████████| 1903/1903 [06:28<00:00,  4.90it/s]\n",
      "                 Class     Images  Instances      Box(P          R      mAP50  mAP50-95)     Mask(P          R      mAP50  mAP50-95): 100%|██████████| 238/238 [01:02<00:00,  3.79it/s]\n"
     ]
    },
    {
     "name": "stdout",
     "output_type": "stream",
     "text": [
      "                   all       7613      11797      0.978       0.78       0.79      0.772      0.986      0.778       0.79        0.7\n",
      "\n",
      "      Epoch    GPU_mem   box_loss   seg_loss   cls_loss   dfl_loss  Instances       Size\n"
     ]
    },
    {
     "name": "stderr",
     "output_type": "stream",
     "text": [
      "      12/75      7.04G     0.3525     0.7843     0.2913     0.8647         47        704: 100%|██████████| 1903/1903 [06:32<00:00,  4.84it/s]\n",
      "                 Class     Images  Instances      Box(P          R      mAP50  mAP50-95)     Mask(P          R      mAP50  mAP50-95): 100%|██████████| 238/238 [01:02<00:00,  3.79it/s]\n"
     ]
    },
    {
     "name": "stdout",
     "output_type": "stream",
     "text": [
      "                   all       7613      11797      0.983      0.779      0.791      0.773      0.982      0.779       0.79        0.7\n",
      "\n",
      "      Epoch    GPU_mem   box_loss   seg_loss   cls_loss   dfl_loss  Instances       Size\n"
     ]
    },
    {
     "name": "stderr",
     "output_type": "stream",
     "text": [
      "      13/75      7.04G     0.3467     0.7749     0.2875     0.8622         39        640: 100%|██████████| 1903/1903 [06:35<00:00,  4.82it/s]\n",
      "                 Class     Images  Instances      Box(P          R      mAP50  mAP50-95)     Mask(P          R      mAP50  mAP50-95): 100%|██████████| 238/238 [01:03<00:00,  3.77it/s]\n"
     ]
    },
    {
     "name": "stdout",
     "output_type": "stream",
     "text": [
      "                   all       7613      11797      0.981       0.78      0.791      0.773       0.98      0.779       0.79      0.701\n",
      "\n",
      "      Epoch    GPU_mem   box_loss   seg_loss   cls_loss   dfl_loss  Instances       Size\n"
     ]
    },
    {
     "name": "stderr",
     "output_type": "stream",
     "text": [
      "      14/75      7.04G      0.348      0.772     0.2856     0.8629         36        832: 100%|██████████| 1903/1903 [06:33<00:00,  4.84it/s]\n",
      "                 Class     Images  Instances      Box(P          R      mAP50  mAP50-95)     Mask(P          R      mAP50  mAP50-95): 100%|██████████| 238/238 [01:02<00:00,  3.79it/s]\n"
     ]
    },
    {
     "name": "stdout",
     "output_type": "stream",
     "text": [
      "                   all       7613      11797      0.981       0.78      0.791      0.774      0.985      0.779       0.79      0.701\n",
      "\n",
      "      Epoch    GPU_mem   box_loss   seg_loss   cls_loss   dfl_loss  Instances       Size\n"
     ]
    },
    {
     "name": "stderr",
     "output_type": "stream",
     "text": [
      "      15/75      7.04G     0.3499      0.775     0.2883      0.864         34        352: 100%|██████████| 1903/1903 [06:30<00:00,  4.88it/s]\n",
      "                 Class     Images  Instances      Box(P          R      mAP50  mAP50-95)     Mask(P          R      mAP50  mAP50-95): 100%|██████████| 238/238 [01:02<00:00,  3.78it/s]\n"
     ]
    },
    {
     "name": "stdout",
     "output_type": "stream",
     "text": [
      "                   all       7613      11797      0.985       0.78      0.791      0.774      0.986       0.78       0.79      0.697\n",
      "\n",
      "      Epoch    GPU_mem   box_loss   seg_loss   cls_loss   dfl_loss  Instances       Size\n"
     ]
    },
    {
     "name": "stderr",
     "output_type": "stream",
     "text": [
      "      16/75      7.04G      0.347      0.771     0.2855     0.8626         73        672: 100%|██████████| 1903/1903 [06:32<00:00,  4.85it/s]\n",
      "                 Class     Images  Instances      Box(P          R      mAP50  mAP50-95)     Mask(P          R      mAP50  mAP50-95): 100%|██████████| 238/238 [01:03<00:00,  3.77it/s]\n"
     ]
    },
    {
     "name": "stdout",
     "output_type": "stream",
     "text": [
      "                   all       7613      11797      0.986       0.78      0.791      0.775      0.984       0.78      0.791        0.7\n",
      "\n",
      "      Epoch    GPU_mem   box_loss   seg_loss   cls_loss   dfl_loss  Instances       Size\n"
     ]
    },
    {
     "name": "stderr",
     "output_type": "stream",
     "text": [
      "      17/75      7.04G     0.3442     0.7714      0.282     0.8614         45        864: 100%|██████████| 1903/1903 [06:29<00:00,  4.89it/s]\n",
      "                 Class     Images  Instances      Box(P          R      mAP50  mAP50-95)     Mask(P          R      mAP50  mAP50-95): 100%|██████████| 238/238 [01:02<00:00,  3.80it/s]\n"
     ]
    },
    {
     "name": "stdout",
     "output_type": "stream",
     "text": [
      "                   all       7613      11797      0.985      0.781      0.792      0.775      0.986       0.78      0.791        0.7\n",
      "\n",
      "      Epoch    GPU_mem   box_loss   seg_loss   cls_loss   dfl_loss  Instances       Size\n"
     ]
    },
    {
     "name": "stderr",
     "output_type": "stream",
     "text": [
      "      18/75      7.04G     0.3438     0.7701     0.2828      0.862         51        832: 100%|██████████| 1903/1903 [06:32<00:00,  4.85it/s]\n",
      "                 Class     Images  Instances      Box(P          R      mAP50  mAP50-95)     Mask(P          R      mAP50  mAP50-95): 100%|██████████| 238/238 [01:02<00:00,  3.82it/s]\n"
     ]
    },
    {
     "name": "stdout",
     "output_type": "stream",
     "text": [
      "                   all       7613      11797      0.986       0.78      0.792      0.776      0.986       0.78      0.792        0.7\n",
      "\n",
      "      Epoch    GPU_mem   box_loss   seg_loss   cls_loss   dfl_loss  Instances       Size\n"
     ]
    },
    {
     "name": "stderr",
     "output_type": "stream",
     "text": [
      "      19/75      7.04G     0.3408     0.7677      0.278     0.8614         47        576: 100%|██████████| 1903/1903 [06:33<00:00,  4.83it/s]\n",
      "                 Class     Images  Instances      Box(P          R      mAP50  mAP50-95)     Mask(P          R      mAP50  mAP50-95): 100%|██████████| 238/238 [01:02<00:00,  3.80it/s]\n"
     ]
    },
    {
     "name": "stdout",
     "output_type": "stream",
     "text": [
      "                   all       7613      11797      0.988       0.78      0.792      0.776      0.989       0.78      0.791      0.701\n",
      "\n",
      "      Epoch    GPU_mem   box_loss   seg_loss   cls_loss   dfl_loss  Instances       Size\n"
     ]
    },
    {
     "name": "stderr",
     "output_type": "stream",
     "text": [
      "      20/75      7.04G     0.3361      0.757     0.2722     0.8589         44        512: 100%|██████████| 1903/1903 [06:32<00:00,  4.85it/s]\n",
      "                 Class     Images  Instances      Box(P          R      mAP50  mAP50-95)     Mask(P          R      mAP50  mAP50-95): 100%|██████████| 238/238 [01:03<00:00,  3.77it/s]\n"
     ]
    },
    {
     "name": "stdout",
     "output_type": "stream",
     "text": [
      "                   all       7613      11797      0.987      0.781      0.792      0.776      0.986       0.78      0.792      0.702\n",
      "\n",
      "      Epoch    GPU_mem   box_loss   seg_loss   cls_loss   dfl_loss  Instances       Size\n"
     ]
    },
    {
     "name": "stderr",
     "output_type": "stream",
     "text": [
      "      21/75      7.04G     0.3417     0.7656     0.2782     0.8609         62        352: 100%|██████████| 1903/1903 [06:35<00:00,  4.81it/s]\n",
      "                 Class     Images  Instances      Box(P          R      mAP50  mAP50-95)     Mask(P          R      mAP50  mAP50-95): 100%|██████████| 238/238 [01:02<00:00,  3.80it/s]\n"
     ]
    },
    {
     "name": "stdout",
     "output_type": "stream",
     "text": [
      "                   all       7613      11797      0.982       0.78      0.792      0.777      0.987      0.779      0.792      0.702\n",
      "\n",
      "      Epoch    GPU_mem   box_loss   seg_loss   cls_loss   dfl_loss  Instances       Size\n"
     ]
    },
    {
     "name": "stderr",
     "output_type": "stream",
     "text": [
      "      22/75      7.04G     0.3386     0.7674     0.2744     0.8583         39        320: 100%|██████████| 1903/1903 [06:28<00:00,  4.89it/s]\n",
      "                 Class     Images  Instances      Box(P          R      mAP50  mAP50-95)     Mask(P          R      mAP50  mAP50-95): 100%|██████████| 238/238 [01:03<00:00,  3.77it/s]\n"
     ]
    },
    {
     "name": "stdout",
     "output_type": "stream",
     "text": [
      "                   all       7613      11797      0.982      0.781      0.792      0.777      0.988       0.78      0.792        0.7\n",
      "\n",
      "      Epoch    GPU_mem   box_loss   seg_loss   cls_loss   dfl_loss  Instances       Size\n"
     ]
    },
    {
     "name": "stderr",
     "output_type": "stream",
     "text": [
      "      23/75      7.04G     0.3369     0.7629     0.2702       0.86         38        928: 100%|██████████| 1903/1903 [06:34<00:00,  4.82it/s]\n",
      "                 Class     Images  Instances      Box(P          R      mAP50  mAP50-95)     Mask(P          R      mAP50  mAP50-95): 100%|██████████| 238/238 [01:02<00:00,  3.81it/s]\n"
     ]
    },
    {
     "name": "stdout",
     "output_type": "stream",
     "text": [
      "                   all       7613      11797      0.983      0.782      0.792      0.778      0.989       0.78      0.792      0.701\n",
      "\n",
      "      Epoch    GPU_mem   box_loss   seg_loss   cls_loss   dfl_loss  Instances       Size\n"
     ]
    },
    {
     "name": "stderr",
     "output_type": "stream",
     "text": [
      "      24/75      7.04G     0.3343     0.7499     0.2714     0.8587         37        352: 100%|██████████| 1903/1903 [06:25<00:00,  4.94it/s]\n",
      "                 Class     Images  Instances      Box(P          R      mAP50  mAP50-95)     Mask(P          R      mAP50  mAP50-95): 100%|██████████| 238/238 [8:28:38<00:00, 128.23s/it]     \n"
     ]
    },
    {
     "name": "stdout",
     "output_type": "stream",
     "text": [
      "                   all       7613      11797      0.984      0.781      0.793      0.778      0.986       0.78      0.792      0.701\n",
      "\n",
      "      Epoch    GPU_mem   box_loss   seg_loss   cls_loss   dfl_loss  Instances       Size\n"
     ]
    },
    {
     "name": "stderr",
     "output_type": "stream",
     "text": [
      "      25/75      7.04G     0.3339     0.7535     0.2688     0.8577         36        672: 100%|██████████| 1903/1903 [10:54<00:00,  2.91it/s]\n",
      "                 Class     Images  Instances      Box(P          R      mAP50  mAP50-95)     Mask(P          R      mAP50  mAP50-95): 100%|██████████| 238/238 [01:11<00:00,  3.34it/s]\n"
     ]
    },
    {
     "name": "stdout",
     "output_type": "stream",
     "text": [
      "                   all       7613      11797      0.983      0.781      0.792      0.778      0.982      0.781      0.792        0.7\n",
      "\n",
      "      Epoch    GPU_mem   box_loss   seg_loss   cls_loss   dfl_loss  Instances       Size\n"
     ]
    },
    {
     "name": "stderr",
     "output_type": "stream",
     "text": [
      "      26/75      7.04G     0.3317     0.7525     0.2664     0.8569         43        928: 100%|██████████| 1903/1903 [08:36<00:00,  3.68it/s]\n",
      "                 Class     Images  Instances      Box(P          R      mAP50  mAP50-95)     Mask(P          R      mAP50  mAP50-95): 100%|██████████| 238/238 [01:11<00:00,  3.34it/s]\n"
     ]
    },
    {
     "name": "stdout",
     "output_type": "stream",
     "text": [
      "                   all       7613      11797      0.983      0.781      0.793      0.778      0.984      0.781      0.792        0.7\n",
      "\n",
      "      Epoch    GPU_mem   box_loss   seg_loss   cls_loss   dfl_loss  Instances       Size\n"
     ]
    },
    {
     "name": "stderr",
     "output_type": "stream",
     "text": [
      "      27/75      7.04G     0.3341     0.7537      0.269     0.8589         48        480: 100%|██████████| 1903/1903 [09:02<00:00,  3.50it/s]\n",
      "                 Class     Images  Instances      Box(P          R      mAP50  mAP50-95)     Mask(P          R      mAP50  mAP50-95): 100%|██████████| 238/238 [01:19<00:00,  2.99it/s]\n"
     ]
    },
    {
     "name": "stdout",
     "output_type": "stream",
     "text": [
      "                   all       7613      11797      0.986      0.781      0.793      0.778      0.986      0.781      0.792        0.7\n",
      "\n",
      "      Epoch    GPU_mem   box_loss   seg_loss   cls_loss   dfl_loss  Instances       Size\n"
     ]
    },
    {
     "name": "stderr",
     "output_type": "stream",
     "text": [
      "      28/75      7.52G     0.3289     0.7506     0.2647     0.8577         61        384: 100%|██████████| 1903/1903 [08:41<00:00,  3.65it/s]\n",
      "                 Class     Images  Instances      Box(P          R      mAP50  mAP50-95)     Mask(P          R      mAP50  mAP50-95): 100%|██████████| 238/238 [01:13<00:00,  3.26it/s]\n"
     ]
    },
    {
     "name": "stdout",
     "output_type": "stream",
     "text": [
      "                   all       7613      11797      0.985      0.781      0.793      0.778      0.986      0.781      0.792      0.701\n",
      "\n",
      "      Epoch    GPU_mem   box_loss   seg_loss   cls_loss   dfl_loss  Instances       Size\n"
     ]
    },
    {
     "name": "stderr",
     "output_type": "stream",
     "text": [
      "      29/75      6.32G     0.3268     0.7479     0.2607     0.8585         44        416: 100%|██████████| 1903/1903 [07:15<00:00,  4.37it/s]\n",
      "                 Class     Images  Instances      Box(P          R      mAP50  mAP50-95)     Mask(P          R      mAP50  mAP50-95): 100%|██████████| 238/238 [01:32<00:00,  2.57it/s]\n"
     ]
    },
    {
     "name": "stdout",
     "output_type": "stream",
     "text": [
      "                   all       7613      11797      0.986      0.781      0.793      0.778      0.988       0.78      0.792      0.701\n",
      "\n",
      "      Epoch    GPU_mem   box_loss   seg_loss   cls_loss   dfl_loss  Instances       Size\n"
     ]
    },
    {
     "name": "stderr",
     "output_type": "stream",
     "text": [
      "      30/75      7.22G     0.3301     0.7504     0.2639     0.8548         35        928: 100%|██████████| 1903/1903 [20:36<00:00,  1.54it/s]\n",
      "                 Class     Images  Instances      Box(P          R      mAP50  mAP50-95)     Mask(P          R      mAP50  mAP50-95): 100%|██████████| 238/238 [01:35<00:00,  2.49it/s]\n"
     ]
    },
    {
     "name": "stdout",
     "output_type": "stream",
     "text": [
      "                   all       7613      11797      0.986      0.781      0.793      0.778      0.986      0.781      0.792      0.701\n",
      "\n",
      "      Epoch    GPU_mem   box_loss   seg_loss   cls_loss   dfl_loss  Instances       Size\n"
     ]
    },
    {
     "name": "stderr",
     "output_type": "stream",
     "text": [
      "      31/75      6.41G     0.3281     0.7439     0.2626     0.8574         34        512: 100%|██████████| 1903/1903 [06:47<00:00,  4.67it/s]\n",
      "                 Class     Images  Instances      Box(P          R      mAP50  mAP50-95)     Mask(P          R      mAP50  mAP50-95): 100%|██████████| 238/238 [01:08<00:00,  3.46it/s]\n"
     ]
    },
    {
     "name": "stdout",
     "output_type": "stream",
     "text": [
      "                   all       7613      11797      0.987      0.781      0.793      0.779      0.987      0.781      0.792      0.701\n",
      "\n",
      "      Epoch    GPU_mem   box_loss   seg_loss   cls_loss   dfl_loss  Instances       Size\n"
     ]
    },
    {
     "name": "stderr",
     "output_type": "stream",
     "text": [
      "      32/75      6.47G     0.3246     0.7481     0.2586     0.8555         33        576: 100%|██████████| 1903/1903 [06:40<00:00,  4.75it/s]\n",
      "                 Class     Images  Instances      Box(P          R      mAP50  mAP50-95)     Mask(P          R      mAP50  mAP50-95): 100%|██████████| 238/238 [01:29<00:00,  2.66it/s]\n"
     ]
    },
    {
     "name": "stdout",
     "output_type": "stream",
     "text": [
      "                   all       7613      11797      0.987      0.781      0.793      0.779      0.987      0.781      0.792      0.701\n",
      "\n",
      "      Epoch    GPU_mem   box_loss   seg_loss   cls_loss   dfl_loss  Instances       Size\n"
     ]
    },
    {
     "name": "stderr",
     "output_type": "stream",
     "text": [
      "      33/75      5.94G     0.3252      0.741     0.2574     0.8541         42        768: 100%|██████████| 1903/1903 [06:34<00:00,  4.83it/s]\n",
      "                 Class     Images  Instances      Box(P          R      mAP50  mAP50-95)     Mask(P          R      mAP50  mAP50-95): 100%|██████████| 238/238 [01:02<00:00,  3.80it/s]\n"
     ]
    },
    {
     "name": "stdout",
     "output_type": "stream",
     "text": [
      "                   all       7613      11797      0.987      0.781      0.793      0.779      0.987      0.781      0.792        0.7\n",
      "\n",
      "      Epoch    GPU_mem   box_loss   seg_loss   cls_loss   dfl_loss  Instances       Size\n"
     ]
    },
    {
     "name": "stderr",
     "output_type": "stream",
     "text": [
      "      34/75      6.82G     0.3233      0.736     0.2554     0.8563         34        928: 100%|██████████| 1903/1903 [06:22<00:00,  4.97it/s]\n",
      "                 Class     Images  Instances      Box(P          R      mAP50  mAP50-95)     Mask(P          R      mAP50  mAP50-95): 100%|██████████| 238/238 [01:05<00:00,  3.66it/s]\n"
     ]
    },
    {
     "name": "stdout",
     "output_type": "stream",
     "text": [
      "                   all       7613      11797      0.988      0.781      0.793      0.779      0.988      0.781      0.792      0.701\n",
      "\n",
      "      Epoch    GPU_mem   box_loss   seg_loss   cls_loss   dfl_loss  Instances       Size\n"
     ]
    },
    {
     "name": "stderr",
     "output_type": "stream",
     "text": [
      "      35/75      6.84G     0.3199     0.7341     0.2538     0.8537         50        416: 100%|██████████| 1903/1903 [06:41<00:00,  4.74it/s]\n",
      "                 Class     Images  Instances      Box(P          R      mAP50  mAP50-95)     Mask(P          R      mAP50  mAP50-95): 100%|██████████| 238/238 [01:04<00:00,  3.67it/s]\n"
     ]
    },
    {
     "name": "stdout",
     "output_type": "stream",
     "text": [
      "                   all       7613      11797      0.989      0.781      0.793      0.779      0.988      0.781      0.792      0.701\n",
      "\n",
      "      Epoch    GPU_mem   box_loss   seg_loss   cls_loss   dfl_loss  Instances       Size\n"
     ]
    },
    {
     "name": "stderr",
     "output_type": "stream",
     "text": [
      "      36/75      6.84G      0.322     0.7446     0.2536     0.8556         32        544: 100%|██████████| 1903/1903 [06:39<00:00,  4.76it/s]\n",
      "                 Class     Images  Instances      Box(P          R      mAP50  mAP50-95)     Mask(P          R      mAP50  mAP50-95): 100%|██████████| 238/238 [01:05<00:00,  3.65it/s]\n"
     ]
    },
    {
     "name": "stdout",
     "output_type": "stream",
     "text": [
      "                   all       7613      11797      0.989      0.781      0.793      0.779      0.988      0.781      0.792      0.701\n",
      "\n",
      "      Epoch    GPU_mem   box_loss   seg_loss   cls_loss   dfl_loss  Instances       Size\n"
     ]
    },
    {
     "name": "stderr",
     "output_type": "stream",
     "text": [
      "      37/75      6.84G     0.3209     0.7351     0.2524     0.8542         27        352: 100%|██████████| 1903/1903 [06:38<00:00,  4.78it/s]\n",
      "                 Class     Images  Instances      Box(P          R      mAP50  mAP50-95)     Mask(P          R      mAP50  mAP50-95): 100%|██████████| 238/238 [01:04<00:00,  3.66it/s]\n"
     ]
    },
    {
     "name": "stdout",
     "output_type": "stream",
     "text": [
      "                   all       7613      11797      0.989      0.781      0.793      0.779      0.989      0.781      0.792      0.701\n",
      "\n",
      "      Epoch    GPU_mem   box_loss   seg_loss   cls_loss   dfl_loss  Instances       Size\n"
     ]
    },
    {
     "name": "stderr",
     "output_type": "stream",
     "text": [
      "      38/75      6.84G     0.3191      0.734     0.2507     0.8532         50        320: 100%|██████████| 1903/1903 [06:25<00:00,  4.94it/s]\n",
      "                 Class     Images  Instances      Box(P          R      mAP50  mAP50-95)     Mask(P          R      mAP50  mAP50-95): 100%|██████████| 238/238 [01:03<00:00,  3.76it/s]\n"
     ]
    },
    {
     "name": "stdout",
     "output_type": "stream",
     "text": [
      "                   all       7613      11797      0.989      0.781      0.793      0.779      0.989       0.78      0.792      0.701\n",
      "\n",
      "      Epoch    GPU_mem   box_loss   seg_loss   cls_loss   dfl_loss  Instances       Size\n"
     ]
    },
    {
     "name": "stderr",
     "output_type": "stream",
     "text": [
      "      39/75      6.84G     0.3155      0.728     0.2486     0.8537         39        864: 100%|██████████| 1903/1903 [06:27<00:00,  4.92it/s]\n",
      "                 Class     Images  Instances      Box(P          R      mAP50  mAP50-95)     Mask(P          R      mAP50  mAP50-95): 100%|██████████| 238/238 [01:04<00:00,  3.68it/s]\n"
     ]
    },
    {
     "name": "stdout",
     "output_type": "stream",
     "text": [
      "                   all       7613      11797      0.989      0.781      0.793      0.779      0.989       0.78      0.792      0.701\n",
      "\n",
      "      Epoch    GPU_mem   box_loss   seg_loss   cls_loss   dfl_loss  Instances       Size\n"
     ]
    },
    {
     "name": "stderr",
     "output_type": "stream",
     "text": [
      "      40/75      6.84G      0.315     0.7281     0.2478     0.8522         44        672: 100%|██████████| 1903/1903 [06:42<00:00,  4.73it/s]\n",
      "                 Class     Images  Instances      Box(P          R      mAP50  mAP50-95)     Mask(P          R      mAP50  mAP50-95): 100%|██████████| 238/238 [01:04<00:00,  3.71it/s]\n"
     ]
    },
    {
     "name": "stdout",
     "output_type": "stream",
     "text": [
      "                   all       7613      11797      0.989      0.781      0.793      0.779      0.989       0.78      0.792      0.701\n",
      "\n",
      "      Epoch    GPU_mem   box_loss   seg_loss   cls_loss   dfl_loss  Instances       Size\n"
     ]
    },
    {
     "name": "stderr",
     "output_type": "stream",
     "text": [
      "      41/75      6.84G      0.315     0.7321     0.2475     0.8531         33        608: 100%|██████████| 1903/1903 [06:50<00:00,  4.64it/s]\n",
      "                 Class     Images  Instances      Box(P          R      mAP50  mAP50-95)     Mask(P          R      mAP50  mAP50-95): 100%|██████████| 238/238 [01:04<00:00,  3.67it/s]\n"
     ]
    },
    {
     "name": "stdout",
     "output_type": "stream",
     "text": [
      "                   all       7613      11797       0.99      0.781      0.793      0.779      0.989       0.78      0.792      0.701\n",
      "\n",
      "      Epoch    GPU_mem   box_loss   seg_loss   cls_loss   dfl_loss  Instances       Size\n"
     ]
    },
    {
     "name": "stderr",
     "output_type": "stream",
     "text": [
      "      42/75      6.84G     0.3123     0.7287     0.2444     0.8505         32        320: 100%|██████████| 1903/1903 [07:43<00:00,  4.11it/s]\n",
      "                 Class     Images  Instances      Box(P          R      mAP50  mAP50-95)     Mask(P          R      mAP50  mAP50-95): 100%|██████████| 238/238 [01:13<00:00,  3.24it/s]\n"
     ]
    },
    {
     "name": "stdout",
     "output_type": "stream",
     "text": [
      "                   all       7613      11797       0.99      0.781      0.793      0.779      0.989      0.781      0.792      0.701\n",
      "\n",
      "      Epoch    GPU_mem   box_loss   seg_loss   cls_loss   dfl_loss  Instances       Size\n"
     ]
    },
    {
     "name": "stderr",
     "output_type": "stream",
     "text": [
      "      43/75      6.84G     0.3103     0.7219     0.2435     0.8524         42        480:  48%|████▊     | 916/1903 [07:46<6:54:00, 25.17s/it] "
     ]
    }
   ],
   "source": [
    "from ultralytics import YOLO\n",
    "# Load a pre-trained YOLOv8-seg model\n",
    "# model = YOLO(r'C:\\Users\\Sai\\Documents\\Neu\\Masters_Project\\PerceptionPrivacy\\checkpoints\\yolov8-seg\\yolov8n-seg.pt')  # or 'yolov8n-seg.pt' for the nano version\n",
    "\n",
    "# Load a fine-tuned YOLOv8-seg model\n",
    "model_path = r'C:\\Users\\Sai\\Documents\\Neu\\Masters_Project\\PerceptionPrivacy\\instance_segmentation\\yolov8-seg\\privacy-segmentation\\yolov8n-adam-flip-640-3e4-mosaic-b16-2\\weights\\best.pt'\n",
    "model = YOLO(model_path)\n",
    "\n",
    "# Train the model\n",
    "model.train(\n",
    "    data=r'C:\\Users\\Sai\\Documents\\Neu\\Masters_Project\\PerceptionPrivacy\\datasets\\yolo_lp_screen_id\\data.yaml',\n",
    "    epochs=75,\n",
    "    batch=16,\n",
    "    imgsz=640,\n",
    "    device=0,  # Set to 'cpu' or '0' for GPU\n",
    "    project=\"privacy-segmentation\",\n",
    "    name=\"yolov8n-adam-flip-640-3e4-mosaic-b16-gray-2\",\n",
    "    patience=10,\n",
    "    mosaic=True,\n",
    "    lr0=3e-4,\n",
    "    optimizer='Adam',\n",
    "    fliplr=0.5,   # horizontal flip\n",
    "    flipud=0.1,    # vertical flip\n",
    "    multi_scale=True,  # multi-scale training\n",
    "    degrees=10,  # rotation degrees\n",
    "    translate=0.1,  # translation\n",
    "    copy_paste=0.1,  # copy-paste augmentation\n",
    "    cache='disk',  # cache images for faster training\n",
    ")\n",
    "\n",
    "# Evaluate the model\n",
    "metrics = model.val()  # Returns a dictionary with evaluation metrics"
   ]
  },
  {
   "cell_type": "code",
   "execution_count": 6,
   "metadata": {},
   "outputs": [
    {
     "name": "stdout",
     "output_type": "stream",
     "text": [
      "Ultralytics 8.3.96  Python-3.11.9 torch-2.6.0+cu124 CUDA:0 (NVIDIA GeForce RTX 3070 Laptop GPU, 8192MiB)\n",
      "YOLOv8n-seg summary (fused): 85 layers, 3,258,649 parameters, 0 gradients, 12.0 GFLOPs\n"
     ]
    },
    {
     "name": "stderr",
     "output_type": "stream",
     "text": [
      "val: Scanning C:\\Users\\Sai\\Documents\\Neu\\Masters_Project\\PerceptionPrivacy\\datasets\\yolo_lp_screen_id\\labels\\val.cache... 7613 images, 0 backgrounds, 0 corrupt: 100%|██████████| 7613/7613 [00:00<?, ?it/s]Scanning C:\\Users\\Sai\\Documents\\Neu\\Masters_Project\\PerceptionPrivacy\\datasets\\yolo_lp_screen_id\\labels\\val.cache... 7613 images, 0 backgrounds, 0 corrupt: 100%|██████████| 7613/7613 [00:00<?, ?it/s]\n",
      "                 Class     Images  Instances      Box(P          R      mAP50  mAP50-95)     Mask(P          R      mAP50  mAP50-95):   0%|          | 0/476 [00:00<?, ?it/s]"
     ]
    },
    {
     "name": "stdout",
     "output_type": "stream",
     "text": [
      "WARNING  Limiting validation plots to first 50 items per image for speed...\n"
     ]
    },
    {
     "name": "stderr",
     "output_type": "stream",
     "text": [
      "                 Class     Images  Instances      Box(P          R      mAP50  mAP50-95)     Mask(P          R      mAP50  mAP50-95):   0%|          | 1/476 [00:00<05:44,  1.38it/s]"
     ]
    },
    {
     "name": "stdout",
     "output_type": "stream",
     "text": [
      "WARNING  Limiting validation plots to first 50 items per image for speed...\n",
      "WARNING  Limiting validation plots to first 50 items per image for speed...\n"
     ]
    },
    {
     "name": "stderr",
     "output_type": "stream",
     "text": [
      "                 Class     Images  Instances      Box(P          R      mAP50  mAP50-95)     Mask(P          R      mAP50  mAP50-95): 100%|██████████| 476/476 [00:58<00:00,  8.18it/s]\n"
     ]
    },
    {
     "name": "stdout",
     "output_type": "stream",
     "text": [
      "                   all       7613      11797      0.989      0.782      0.795      0.783      0.988      0.782      0.795      0.733\n",
      "         license_plate       3000       3091      0.997       0.97      0.984      0.967      0.997       0.97      0.984      0.827\n",
      "                screen       1663       5756      0.972      0.378      0.407      0.387      0.968      0.378      0.407      0.379\n",
      "               id_card       2950       2950      0.999      0.998      0.995      0.995      0.999      0.998      0.995      0.994\n",
      "Speed: 0.2ms preprocess, 1.9ms inference, 0.0ms loss, 0.8ms postprocess per image\n",
      "Results saved to \u001b[1mruns\\segment\\val5\u001b[0m\n"
     ]
    }
   ],
   "source": [
    "model = YOLO(r'C:\\Users\\Sai\\Documents\\Neu\\Masters_Project\\PerceptionPrivacy\\instance_segmentation\\yolov8-seg\\privacy-segmentation\\yolov8n-adam-flip-640-3e4-mosaic-b16-2\\weights\\best.pt')\n",
    "\n",
    "\n",
    "# Evaluate the model\n",
    "metrics = model.val()  # Returns a dictionary with evaluation metrics"
   ]
  },
  {
   "cell_type": "code",
   "execution_count": 7,
   "metadata": {},
   "outputs": [
    {
     "name": "stdout",
     "output_type": "stream",
     "text": [
      "mAP50: 0.7953\n",
      "mAP50-95 (seg): 0.7335\n"
     ]
    }
   ],
   "source": [
    "# Print mAP@0.5 and mAP@0.5:0.95\n",
    "print(f\"mAP50: {metrics.box.map50:.4f}\")      # For bounding boxes (if available)\n",
    "print(f\"mAP50-95 (seg): {metrics.seg.map:.4f}\")  # For segmentation performance"
   ]
  },
  {
   "cell_type": "code",
   "execution_count": 3,
   "metadata": {},
   "outputs": [
    {
     "name": "stdout",
     "output_type": "stream",
     "text": [
      "mAP50: 0.7972\n",
      "mAP50-95 (seg): 0.7341\n"
     ]
    }
   ],
   "source": [
    "# Print mAP@0.5 and mAP@0.5:0.95\n",
    "print(f\"mAP50: {metrics.box.map50:.4f}\")      # For bounding boxes (if available)\n",
    "print(f\"mAP50-95 (seg): {metrics.seg.map:.4f}\")  # For segmentation performance"
   ]
  },
  {
   "cell_type": "code",
   "execution_count": 5,
   "metadata": {},
   "outputs": [
    {
     "ename": "Error",
     "evalue": "You must call wandb.init() before wandb.log()",
     "output_type": "error",
     "traceback": [
      "\u001b[1;31m---------------------------------------------------------------------------\u001b[0m",
      "\u001b[1;31mError\u001b[0m                                     Traceback (most recent call last)",
      "Cell \u001b[1;32mIn[5], line 2\u001b[0m\n\u001b[0;32m      1\u001b[0m \u001b[38;5;28;01mimport\u001b[39;00m \u001b[38;5;21;01mwandb\u001b[39;00m\n\u001b[1;32m----> 2\u001b[0m \u001b[43mwandb\u001b[49m\u001b[38;5;241;43m.\u001b[39;49m\u001b[43mlog\u001b[49m\u001b[43m(\u001b[49m\u001b[43m{\u001b[49m\u001b[38;5;124;43m\"\u001b[39;49m\u001b[38;5;124;43mmAP50-95 (seg)\u001b[39;49m\u001b[38;5;124;43m\"\u001b[39;49m\u001b[43m:\u001b[49m\u001b[43m \u001b[49m\u001b[43mmetrics\u001b[49m\u001b[38;5;241;43m.\u001b[39;49m\u001b[43mseg\u001b[49m\u001b[38;5;241;43m.\u001b[39;49m\u001b[43mmap\u001b[49m\u001b[43m,\u001b[49m\u001b[43m \u001b[49m\u001b[38;5;124;43m\"\u001b[39;49m\u001b[38;5;124;43mmAP50 (seg)\u001b[39;49m\u001b[38;5;124;43m\"\u001b[39;49m\u001b[43m:\u001b[49m\u001b[43m \u001b[49m\u001b[43mmetrics\u001b[49m\u001b[38;5;241;43m.\u001b[39;49m\u001b[43mseg\u001b[49m\u001b[38;5;241;43m.\u001b[39;49m\u001b[43mmap50\u001b[49m\u001b[43m}\u001b[49m\u001b[43m)\u001b[49m\n",
      "File \u001b[1;32mc:\\Users\\Sai\\AppData\\Local\\Programs\\Python\\Python311\\Lib\\site-packages\\wandb\\sdk\\lib\\preinit.py:36\u001b[0m, in \u001b[0;36mPreInitCallable.<locals>.preinit_wrapper\u001b[1;34m(*args, **kwargs)\u001b[0m\n\u001b[0;32m     35\u001b[0m \u001b[38;5;28;01mdef\u001b[39;00m \u001b[38;5;21mpreinit_wrapper\u001b[39m(\u001b[38;5;241m*\u001b[39margs: Any, \u001b[38;5;241m*\u001b[39m\u001b[38;5;241m*\u001b[39mkwargs: Any) \u001b[38;5;241m-\u001b[39m\u001b[38;5;241m>\u001b[39m Any:\n\u001b[1;32m---> 36\u001b[0m     \u001b[38;5;28;01mraise\u001b[39;00m wandb\u001b[38;5;241m.\u001b[39mError(\u001b[38;5;124mf\u001b[39m\u001b[38;5;124m\"\u001b[39m\u001b[38;5;124mYou must call wandb.init() before \u001b[39m\u001b[38;5;132;01m{\u001b[39;00mname\u001b[38;5;132;01m}\u001b[39;00m\u001b[38;5;124m()\u001b[39m\u001b[38;5;124m\"\u001b[39m)\n",
      "\u001b[1;31mError\u001b[0m: You must call wandb.init() before wandb.log()"
     ]
    }
   ],
   "source": [
    "import wandb\n",
    "wandb.log({\"mAP50-95 (seg)\": metrics.seg.map, \"mAP50 (seg)\": metrics.seg.map50})"
   ]
  },
  {
   "cell_type": "code",
   "execution_count": 6,
   "metadata": {},
   "outputs": [
    {
     "name": "stdout",
     "output_type": "stream",
     "text": [
      "Ultralytics 8.3.94  Python-3.11.9 torch-2.6.0+cu124 CPU (AMD Ryzen 7 5800H with Radeon Graphics)\n",
      "\n",
      "\u001b[34m\u001b[1mPyTorch:\u001b[0m starting from 'C:\\Users\\Sai\\Documents\\Neu\\Masters_Project\\PerceptionPrivacy\\instance_segmentation\\yolov8-seg\\privacy-segmentation\\yolov8s-finetune-balanced\\weights\\best.pt' with input shape (1, 3, 640, 640) BCHW and output shape(s) ((1, 39, 8400), (1, 32, 160, 160)) (45.3 MB)\n",
      "\u001b[31m\u001b[1mrequirements:\u001b[0m Ultralytics requirements ['onnx>=1.12.0', 'onnxslim', 'onnxruntime-gpu'] not found, attempting AutoUpdate...\n",
      "Collecting onnx>=1.12.0\n",
      "  Downloading onnx-1.17.0-cp311-cp311-win_amd64.whl.metadata (16 kB)\n",
      "Collecting onnxslim\n",
      "  Downloading onnxslim-0.1.48-py3-none-any.whl.metadata (4.6 kB)\n",
      "Collecting onnxruntime-gpu\n",
      "  Downloading onnxruntime_gpu-1.21.0-cp311-cp311-win_amd64.whl.metadata (5.0 kB)\n",
      "Requirement already satisfied: numpy>=1.20 in c:\\users\\sai\\appdata\\local\\programs\\python\\python311\\lib\\site-packages (from onnx>=1.12.0) (1.26.4)\n",
      "Requirement already satisfied: protobuf>=3.20.2 in c:\\users\\sai\\appdata\\local\\programs\\python\\python311\\lib\\site-packages (from onnx>=1.12.0) (5.29.4)\n",
      "Requirement already satisfied: sympy in c:\\users\\sai\\appdata\\local\\programs\\python\\python311\\lib\\site-packages (from onnxslim) (1.13.1)\n",
      "Requirement already satisfied: packaging in c:\\users\\sai\\appdata\\local\\programs\\python\\python311\\lib\\site-packages (from onnxslim) (24.1)\n",
      "Collecting coloredlogs (from onnxruntime-gpu)\n",
      "  Downloading coloredlogs-15.0.1-py2.py3-none-any.whl.metadata (12 kB)\n",
      "Collecting flatbuffers (from onnxruntime-gpu)\n",
      "  Downloading flatbuffers-25.2.10-py2.py3-none-any.whl.metadata (875 bytes)\n",
      "Collecting humanfriendly>=9.1 (from coloredlogs->onnxruntime-gpu)\n",
      "  Downloading humanfriendly-10.0-py2.py3-none-any.whl.metadata (9.2 kB)\n",
      "Requirement already satisfied: mpmath<1.4,>=1.1.0 in c:\\users\\sai\\appdata\\local\\programs\\python\\python311\\lib\\site-packages (from sympy->onnxslim) (1.3.0)\n",
      "Collecting pyreadline3 (from humanfriendly>=9.1->coloredlogs->onnxruntime-gpu)\n",
      "  Downloading pyreadline3-3.5.4-py3-none-any.whl.metadata (4.7 kB)\n",
      "Downloading onnx-1.17.0-cp311-cp311-win_amd64.whl (14.5 MB)\n",
      "   ---------------------------------------- 14.5/14.5 MB 50.4 MB/s eta 0:00:00\n",
      "Downloading onnxslim-0.1.48-py3-none-any.whl (142 kB)\n",
      "   ---------------------------------------- 142.9/142.9 kB ? eta 0:00:00\n",
      "Downloading onnxruntime_gpu-1.21.0-cp311-cp311-win_amd64.whl (213.1 MB)\n",
      "   --------------------------------------- 213.1/213.1 MB 54.7 MB/s eta 0:00:00\n",
      "Downloading coloredlogs-15.0.1-py2.py3-none-any.whl (46 kB)\n",
      "   ---------------------------------------- 46.0/46.0 kB ? eta 0:00:00\n",
      "Downloading flatbuffers-25.2.10-py2.py3-none-any.whl (30 kB)\n",
      "Downloading humanfriendly-10.0-py2.py3-none-any.whl (86 kB)\n",
      "   ---------------------------------------- 86.8/86.8 kB ? eta 0:00:00\n",
      "Downloading pyreadline3-3.5.4-py3-none-any.whl (83 kB)\n",
      "   ---------------------------------------- 83.2/83.2 kB ? eta 0:00:00\n",
      "Installing collected packages: flatbuffers, pyreadline3, onnx, onnxslim, humanfriendly, coloredlogs, onnxruntime-gpu\n",
      "Successfully installed coloredlogs-15.0.1 flatbuffers-25.2.10 humanfriendly-10.0 onnx-1.17.0 onnxruntime-gpu-1.21.0 onnxslim-0.1.48 pyreadline3-3.5.4\n",
      "\n",
      "\u001b[31m\u001b[1mrequirements:\u001b[0m AutoUpdate success  19.7s, installed 3 packages: ['onnx>=1.12.0', 'onnxslim', 'onnxruntime-gpu']\n",
      "\u001b[31m\u001b[1mrequirements:\u001b[0m  \u001b[1mRestart runtime or rerun command for updates to take effect\u001b[0m\n",
      "\n",
      "\n",
      "\u001b[34m\u001b[1mONNX:\u001b[0m starting export with onnx 1.17.0 opset 19...\n",
      "\u001b[34m\u001b[1mONNX:\u001b[0m slimming with onnxslim 0.1.48...\n",
      "\u001b[34m\u001b[1mONNX:\u001b[0m export success  21.5s, saved as 'C:\\Users\\Sai\\Documents\\Neu\\Masters_Project\\PerceptionPrivacy\\instance_segmentation\\yolov8-seg\\privacy-segmentation\\yolov8s-finetune-balanced\\weights\\best.onnx' (45.2 MB)\n",
      "\n",
      "Export complete (22.0s)\n",
      "Results saved to \u001b[1mC:\\Users\\Sai\\Documents\\Neu\\Masters_Project\\PerceptionPrivacy\\instance_segmentation\\yolov8-seg\\privacy-segmentation\\yolov8s-finetune-balanced\\weights\u001b[0m\n",
      "Predict:         yolo predict task=segment model=C:\\Users\\Sai\\Documents\\Neu\\Masters_Project\\PerceptionPrivacy\\instance_segmentation\\yolov8-seg\\privacy-segmentation\\yolov8s-finetune-balanced\\weights\\best.onnx imgsz=640  \n",
      "Validate:        yolo val task=segment model=C:\\Users\\Sai\\Documents\\Neu\\Masters_Project\\PerceptionPrivacy\\instance_segmentation\\yolov8-seg\\privacy-segmentation\\yolov8s-finetune-balanced\\weights\\best.onnx imgsz=640 data=C:\\Users\\Sai\\Documents\\Neu\\Masters_Project\\PerceptionPrivacy\\datasets\\yolo_lp_screen_id\\data.yaml  \n",
      "Visualize:       https://netron.app\n"
     ]
    },
    {
     "data": {
      "text/plain": [
       "'C:\\\\Users\\\\Sai\\\\Documents\\\\Neu\\\\Masters_Project\\\\PerceptionPrivacy\\\\instance_segmentation\\\\yolov8-seg\\\\privacy-segmentation\\\\yolov8s-finetune-balanced\\\\weights\\\\best.onnx'"
      ]
     },
     "execution_count": 6,
     "metadata": {},
     "output_type": "execute_result"
    }
   ],
   "source": [
    "model.export(format='onnx')"
   ]
  }
 ],
 "metadata": {
  "kernelspec": {
   "display_name": "Python 3",
   "language": "python",
   "name": "python3"
  },
  "language_info": {
   "codemirror_mode": {
    "name": "ipython",
    "version": 3
   },
   "file_extension": ".py",
   "mimetype": "text/x-python",
   "name": "python",
   "nbconvert_exporter": "python",
   "pygments_lexer": "ipython3",
   "version": "3.11.9"
  }
 },
 "nbformat": 4,
 "nbformat_minor": 2
}
