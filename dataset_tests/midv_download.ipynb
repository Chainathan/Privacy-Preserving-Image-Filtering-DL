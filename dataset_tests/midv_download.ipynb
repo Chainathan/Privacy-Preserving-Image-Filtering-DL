{
 "cells": [
  {
   "cell_type": "code",
   "execution_count": 3,
   "metadata": {},
   "outputs": [],
   "source": [
    "import midv500"
   ]
  },
  {
   "cell_type": "code",
   "execution_count": null,
   "metadata": {},
   "outputs": [
    {
     "name": "stdout",
     "output_type": "stream",
     "text": [
      "--------------------------------------------------------------\n",
      "\n",
      "Downloading: 01_alb_id.zip\n"
     ]
    },
    {
     "name": "stderr",
     "output_type": "stream",
     "text": [
      "01_alb_id.zip: 0.00B [00:00, ?B/s]"
     ]
    },
    {
     "name": "stderr",
     "output_type": "stream",
     "text": [
      "01_alb_id.zip: 657MB [00:29, 22.4MB/s]                               \n"
     ]
    },
    {
     "name": "stdout",
     "output_type": "stream",
     "text": [
      "Downloaded: 01_alb_id.zip\n",
      "Unzipping: 01_alb_id.zip\n",
      "Unzipped: 01_alb_id\n",
      "--------------------------------------------------------------\n",
      "\n",
      "Downloading: 02_aut_drvlic_new.zip\n"
     ]
    },
    {
     "name": "stderr",
     "output_type": "stream",
     "text": [
      "02_aut_drvlic_new.zip:  13%|█▎        | 88.3M/674M [00:36<09:33, 1.02MB/s]   "
     ]
    }
   ],
   "source": [
    "# set directory for dataset to be downloaded\n",
    "dataset_dir = r'C:\\Users\\Sai\\Documents\\Neu\\Masters_Project\\PerceptionPrivacy\\datasets\\classes\\midv500_data\\dataset'\n",
    "\n",
    "# download and unzip the base midv500 dataset\n",
    "dataset_name = \"midv500\"\n",
    "midv500.download_dataset(dataset_dir, dataset_name)\n",
    "\n",
    "# # or download and unzip the midv2019 dataset that includes low light images\n",
    "# dataset_name = \"midv2019\"\n",
    "# midv500.download_dataset(dataset_dir, dataset_name)\n",
    "\n",
    "# # or download and unzip both midv500 and midv2019 datasets\n",
    "# dataset_name = \"all\"\n",
    "# midv500.download_dataset(dataset_dir, dataset_name)"
   ]
  },
  {
   "cell_type": "code",
   "execution_count": 4,
   "metadata": {},
   "outputs": [
    {
     "name": "stdout",
     "output_type": "stream",
     "text": [
      "There are 14748 image files in folder dataset.\n",
      "Converting to coco.\n"
     ]
    },
    {
     "name": "stderr",
     "output_type": "stream",
     "text": [
      "100%|██████████| 14748/14748 [06:17<00:00, 39.03it/s]\n"
     ]
    }
   ],
   "source": [
    "# set directory for coco annotations to be saved\n",
    "dataset_dir = r'C:\\Users\\Sai\\Documents\\Neu\\Masters_Project\\PerceptionPrivacy\\datasets\\classes\\midv500_data\\dataset'\n",
    "export_dir = r'C:\\Users\\Sai\\Documents\\Neu\\Masters_Project\\PerceptionPrivacy\\datasets\\classes\\midv500_data'\n",
    "\n",
    "# set the desired name of the coco file, coco file will be exported as \"filename + '_coco.json'\"\n",
    "filename = 'midv500'\n",
    "\n",
    "# convert midv500 annotations to coco format\n",
    "midv500.convert_to_coco(dataset_dir, export_dir, filename)"
   ]
  },
  {
   "cell_type": "code",
   "execution_count": 1,
   "metadata": {},
   "outputs": [
    {
     "name": "stdout",
     "output_type": "stream",
     "text": [
      "Batch files generated in 'ftp_batch_files' directory.\n"
     ]
    }
   ],
   "source": [
    "import os\n",
    "\n",
    "# List of FTP links\n",
    "midv500_links = [\n",
    "    \"ftp://smartengines.com/midv-500/dataset/01_alb_id.zip\",\n",
    "    \"ftp://smartengines.com/midv-500/dataset/02_aut_drvlic_new.zip\",\n",
    "    \"ftp://smartengines.com/midv-500/dataset/03_aut_id_old.zip\",\n",
    "    \"ftp://smartengines.com/midv-500/dataset/04_aut_id.zip\",\n",
    "    \"ftp://smartengines.com/midv-500/dataset/05_aze_passport.zip\",\n",
    "    \"ftp://smartengines.com/midv-500/dataset/06_bra_passport.zip\",\n",
    "    \"ftp://smartengines.com/midv-500/dataset/07_chl_id.zip\",\n",
    "    \"ftp://smartengines.com/midv-500/dataset/08_chn_homereturn.zip\",\n",
    "    \"ftp://smartengines.com/midv-500/dataset/09_chn_id.zip\",\n",
    "    \"ftp://smartengines.com/midv-500/dataset/10_cze_id.zip\",\n",
    "    \"ftp://smartengines.com/midv-500/dataset/11_cze_passport.zip\",\n",
    "    \"ftp://smartengines.com/midv-500/dataset/12_deu_drvlic_new.zip\",\n",
    "    \"ftp://smartengines.com/midv-500/dataset/13_deu_drvlic_old.zip\",\n",
    "    \"ftp://smartengines.com/midv-500/dataset/14_deu_id_new.zip\",\n",
    "    \"ftp://smartengines.com/midv-500/dataset/15_deu_id_old.zip\",\n",
    "    \"ftp://smartengines.com/midv-500/dataset/16_deu_passport_new.zip\",\n",
    "    \"ftp://smartengines.com/midv-500/dataset/17_deu_passport_old.zip\",\n",
    "    \"ftp://smartengines.com/midv-500/dataset/18_dza_passport.zip\",\n",
    "    \"ftp://smartengines.com/midv-500/dataset/19_esp_drvlic.zip\",\n",
    "    \"ftp://smartengines.com/midv-500/dataset/20_esp_id_new.zip\",\n",
    "    \"ftp://smartengines.com/midv-500/dataset/21_esp_id_old.zip\",\n",
    "    \"ftp://smartengines.com/midv-500/dataset/22_est_id.zip\",\n",
    "    \"ftp://smartengines.com/midv-500/dataset/23_fin_drvlic.zip\",\n",
    "    \"ftp://smartengines.com/midv-500/dataset/24_fin_id.zip\",\n",
    "    \"ftp://smartengines.com/midv-500/dataset/25_grc_passport.zip\",\n",
    "    \"ftp://smartengines.com/midv-500/dataset/26_hrv_drvlic.zip\",\n",
    "    \"ftp://smartengines.com/midv-500/dataset/27_hrv_passport.zip\",\n",
    "    \"ftp://smartengines.com/midv-500/dataset/28_hun_passport.zip\",\n",
    "    \"ftp://smartengines.com/midv-500/dataset/29_irn_drvlic.zip\",\n",
    "    \"ftp://smartengines.com/midv-500/dataset/30_ita_drvlic.zip\",\n",
    "    \"ftp://smartengines.com/midv-500/dataset/31_jpn_drvlic.zip\",\n",
    "    \"ftp://smartengines.com/midv-500/dataset/32_lva_passport.zip\",\n",
    "    \"ftp://smartengines.com/midv-500/dataset/33_mac_id.zip\",\n",
    "    \"ftp://smartengines.com/midv-500/dataset/34_mda_passport.zip\",\n",
    "    \"ftp://smartengines.com/midv-500/dataset/35_nor_drvlic.zip\",\n",
    "    \"ftp://smartengines.com/midv-500/dataset/36_pol_drvlic.zip\",\n",
    "    \"ftp://smartengines.com/midv-500/dataset/37_prt_id.zip\",\n",
    "    \"ftp://smartengines.com/midv-500/dataset/38_rou_drvlic.zip\",\n",
    "    \"ftp://smartengines.com/midv-500/dataset/39_rus_internalpassport.zip\",\n",
    "    \"ftp://smartengines.com/midv-500/dataset/40_srb_id.zip\",\n",
    "    \"ftp://smartengines.com/midv-500/dataset/41_srb_passport.zip\",\n",
    "    \"ftp://smartengines.com/midv-500/dataset/42_svk_id.zip\",\n",
    "    \"ftp://smartengines.com/midv-500/dataset/43_tur_id.zip\",\n",
    "    \"ftp://smartengines.com/midv-500/dataset/44_ukr_id.zip\",\n",
    "    \"ftp://smartengines.com/midv-500/dataset/45_ukr_passport.zip\",\n",
    "    \"ftp://smartengines.com/midv-500/dataset/46_ury_passport.zip\",\n",
    "    \"ftp://smartengines.com/midv-500/dataset/47_usa_bordercrossing.zip\",\n",
    "    \"ftp://smartengines.com/midv-500/dataset/48_usa_passportcard.zip\",\n",
    "    \"ftp://smartengines.com/midv-500/dataset/49_usa_ssn82.zip\",\n",
    "    \"ftp://smartengines.com/midv-500/dataset/50_xpo_id.zip\",\n",
    "]\n",
    "\n",
    "# Directory to store batch files\n",
    "bat_dir = \"ftp_batch_files\"\n",
    "os.makedirs(bat_dir, exist_ok=True)\n",
    "\n",
    "# Generate batch files for each FTP link\n",
    "for link in midv500_links:\n",
    "    filename = link.split(\"/\")[-1]  # Extract the file name from the URL\n",
    "    bat_filename = os.path.join(bat_dir, f\"{filename}.bat\")\n",
    "\n",
    "    with open(bat_filename, \"w\") as bat_file:\n",
    "        bat_file.write(f'@echo off\\nwget -O {filename} {link}\\npause\\n')\n",
    "\n",
    "print(f\"Batch files generated in '{bat_dir}' directory.\")"
   ]
  }
 ],
 "metadata": {
  "kernelspec": {
   "display_name": ".venv",
   "language": "python",
   "name": "python3"
  },
  "language_info": {
   "codemirror_mode": {
    "name": "ipython",
    "version": 3
   },
   "file_extension": ".py",
   "mimetype": "text/x-python",
   "name": "python",
   "nbconvert_exporter": "python",
   "pygments_lexer": "ipython3",
   "version": "3.11.9"
  }
 },
 "nbformat": 4,
 "nbformat_minor": 2
}
